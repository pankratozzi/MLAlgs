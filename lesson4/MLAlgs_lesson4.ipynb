{
  "cells": [
    {
      "cell_type": "markdown",
      "metadata": {
        "id": "VAStLuF33zJu"
      },
      "source": [
        "### Урок 4. Деревья решений"
      ]
    },
    {
      "cell_type": "code",
      "execution_count": 1,
      "metadata": {
        "collapsed": true,
        "id": "VaYHywS6JQb4"
      },
      "outputs": [],
      "source": [
        "import matplotlib.pyplot as plt\n",
        "import seaborn as sns\n",
        "import random\n",
        "from itertools import combinations\n",
        "\n",
        "from matplotlib.colors import ListedColormap\n",
        "from sklearn import datasets\n",
        "\n",
        "import numpy as np\n",
        "from sklearn.base import BaseEstimator, ClassifierMixin\n",
        "from sklearn.tree import DecisionTreeClassifier, DecisionTreeRegressor\n",
        "from sklearn.metrics import mean_squared_error, r2_score, classification_report\n",
        "from sklearn.model_selection import train_test_split"
      ]
    },
    {
      "cell_type": "code",
      "execution_count": null,
      "metadata": {
        "collapsed": true,
        "id": "TOCTpPF3f9TW"
      },
      "outputs": [],
      "source": [
        "X = np.array([[1, 1, 1, 1, 1, 1, 1, 1, 1, 1],\n",
        "              [1, 1, 2, 5, 3, 0, 5, 10, 1, 2],\n",
        "              [500, 700, 750, 600, 1450, 800, 1500, 2000, 450, 1000],\n",
        "              [1, 1, 2, 1, 2, 1, 3, 3, 1, 2]], dtype = np.float64)\n",
        "y = np.array([0, 0, 1, 0, 1, 0, 1, 0, 1, 1], dtype = np.float64)"
      ]
    },
    {
      "cell_type": "code",
      "execution_count": null,
      "metadata": {
        "id": "EHH9u5uH3zKD",
        "outputId": "91c476f8-9dd2-4c3b-ceaf-6c1cae177491"
      },
      "outputs": [
        {
          "name": "stdout",
          "output_type": "stream",
          "text": [
            "[ 500.  700.  750.  600. 1450.  800. 1500. 2000.  450. 1000.]\n",
            "[0. 0. 1. 0. 1. 0. 1. 0. 1. 1.]\n",
            "[False False False False  True False  True  True False  True]\n",
            "[1. 1. 0. 1.]\n",
            "Нулей: 1 единиц: 3\n"
          ]
        }
      ],
      "source": [
        "x = X[2,:]\n",
        "print(x)\n",
        "print(y)\n",
        "print(x >= 1000)\n",
        "print(y[x >= 1000])\n",
        "right_1 = (y[x >= 1000] == 0)\n",
        "right_2 = (y[x >= 1000] == 1)\n",
        "print('Нулей:', right_1.sum(), 'единиц:', right_2.sum())"
      ]
    },
    {
      "cell_type": "code",
      "execution_count": null,
      "metadata": {
        "id": "6vsdBwOgXBIJ"
      },
      "outputs": [],
      "source": [
        "def calc_gini(x, y, t):\n",
        "    qty_all = len(y)\n",
        "    qty_left = len(y[x < t])\n",
        "    qty_right = qty_all - qty_left\n",
        "\n",
        "    # Индекс Джини не будет равен бесконечности в таком случае,\n",
        "    # но и считать его особо смысла нет, так как получается только одна ветвь\n",
        "    if qty_left == 0 or qty_right == 0:\n",
        "        return np.inf\n",
        "\n",
        "    qty0_left = ((y[x < t]) == 0).sum()\n",
        "    qty0_right = ((y[x >= t]) == 0).sum()\n",
        "\n",
        "    p0_left = qty0_left / qty_left\n",
        "    p1_left = 1 - p0_left\n",
        "\n",
        "    p0_right = qty0_right / qty_right\n",
        "    p1_right = 1 - p0_right\n",
        "\n",
        "    # Нормировочный коэффициент для левого листа\n",
        "    left_coef = qty_left / qty_all\n",
        "\n",
        "    # Индекс Джини для левого листа\n",
        "    h_left = p0_left * (1 - p0_left) + p1_left * (1 - p1_left)\n",
        "    # Индекс Джини для правого листа\n",
        "    h_right = p0_right * (1 - p0_right) + p1_right * (1 - p1_right)\n",
        "\n",
        "    res = left_coef * h_left + (1 - left_coef) * h_right\n",
        "    return res"
      ]
    },
    {
      "cell_type": "code",
      "execution_count": null,
      "metadata": {
        "collapsed": true,
        "id": "uBdli3WDabXn"
      },
      "outputs": [],
      "source": [
        "# Расчёт критерия Джини\n",
        "\n",
        "def gini(labels):\n",
        "    #  подсчёт количества объектов разных классов\n",
        "    classes = {}\n",
        "    for label in labels:\n",
        "        if label not in classes:\n",
        "            classes[label] = 0\n",
        "        classes[label] += 1\n",
        "    \n",
        "    #  расчёт критерия\n",
        "    impurity = 1\n",
        "    for label in classes:\n",
        "        p = classes[label] / len(labels)\n",
        "        impurity -= p ** 2\n",
        "        \n",
        "    return impurity, classes"
      ]
    },
    {
      "cell_type": "code",
      "execution_count": null,
      "metadata": {
        "id": "fPcPBrzh3zKK",
        "outputId": "90979a91-7fdc-4b5b-ccb6-2a251ab1d91c"
      },
      "outputs": [
        {
          "name": "stdout",
          "output_type": "stream",
          "text": [
            "[1. 1. 0. 1.]\n",
            "0.375 {1.0: 3, 0.0: 1}\n",
            "[0. 0. 1. 0. 0. 1.]\n",
            "0.4444444444444445 {0.0: 4, 1.0: 2}\n"
          ]
        }
      ],
      "source": [
        "print(y[x >= 1000])\n",
        "i, c = gini(y[x >= 1000])\n",
        "print(i, c)\n",
        "\n",
        "print(y[x < 1000])\n",
        "i, c = gini(y[x < 1000])\n",
        "print(i, c)"
      ]
    },
    {
      "cell_type": "code",
      "execution_count": null,
      "metadata": {
        "collapsed": true,
        "id": "3dJs7ovMY1E-"
      },
      "outputs": [],
      "source": [
        "# Расчёт прироста качества при разбиении вершины дерева\n",
        "\n",
        "def quality_0(left_labels, right_labels):\n",
        "\n",
        "    # доля выборки, ушедшая в левое поддерево\n",
        "    p = float(left_labels.shape[0]) / (left_labels.shape[0] + right_labels.shape[0])\n",
        "    gini_left, _ = gini(left_labels)\n",
        "    gini_right, _ = gini(right_labels)\n",
        "    \n",
        "    return p * gini_left + (1 - p) * gini_right"
      ]
    },
    {
      "cell_type": "code",
      "execution_count": null,
      "metadata": {
        "colab": {
          "base_uri": "https://localhost:8080/",
          "height": 196
        },
        "id": "3Ybn5PI-gILB",
        "outputId": "03a8dbab-d45e-4aa6-c642-6b6994438ace"
      },
      "outputs": [
        {
          "name": "stdout",
          "output_type": "stream",
          "text": [
            "Порог: 500.0, gini = 0.4444444444444444 (0.4444444444444444)\n",
            "Порог: 700.0, gini = 0.47619047619047616 (0.47619047619047616)\n",
            "Порог: 750.0, gini = 0.4166666666666667 (0.4166666666666667)\n",
            "Порог: 600.0, gini = 0.5 (0.5)\n",
            "Порог: 1450.0, gini = 0.47619047619047616 (0.4761904761904763)\n",
            "Порог: 800.0, gini = 0.48 (0.48)\n",
            "Порог: 1500.0, gini = 0.5 (0.5)\n",
            "Порог: 2000.0, gini = 0.4444444444444444 (0.4444444444444444)\n",
            "Порог: 450.0, gini = inf (0.5)\n",
            "Порог: 1000.0, gini = 0.4166666666666667 (0.4166666666666667)\n"
          ]
        }
      ],
      "source": [
        "for t in x:\n",
        "    print('Порог: {}, gini = {} ({})'.format(t, calc_gini(x, y, t), quality_0(y[x < t], y[x >= t])))"
      ]
    },
    {
      "cell_type": "markdown",
      "metadata": {
        "id": "ugBVoMyR3zKQ"
      },
      "source": [
        "## Практическое задание"
      ]
    },
    {
      "cell_type": "markdown",
      "metadata": {
        "collapsed": true,
        "id": "nh2xEgz03zKR"
      },
      "source": [
        "1. В коде из методички реализуйте один или несколько критериев останова: количество листьев, количество используемых признаков, глубина дерева и т. д.\n",
        "2. Реализуйте дерево для задачи регрессии. Возьмите за основу дерево, реализованное в методичке, заменив механизм предсказания в листе на взятие среднего значения по выборке, и критерий Джини на дисперсию значений."
      ]
    },
    {
      "cell_type": "code",
      "source": [
        "# сгенерируем данные\n",
        "X, y = datasets.make_classification(n_samples=1300, n_features = 5, n_informative = 2, n_classes = 2, n_redundant=0, \n",
        "                                    n_clusters_per_class=1, random_state=5)\n",
        "X_train, X_test, y_train, y_test = train_test_split(X, y, test_size=300, shuffle=True, stratify=y, random_state=42)"
      ],
      "metadata": {
        "id": "KtfltX7DXZf_"
      },
      "execution_count": 2,
      "outputs": []
    },
    {
      "cell_type": "code",
      "execution_count": 3,
      "metadata": {
        "id": "5W8qKQ2S3zKS"
      },
      "outputs": [],
      "source": [
        "# Реализуем класс узла\n",
        "\n",
        "class Node:\n",
        "    \n",
        "    def __init__(self, index, t, true_branch, false_branch):\n",
        "        self.index = index  # индекс признака, по которому ведётся сравнение с порогом в этом узле\n",
        "        self.t = t  # значение порога\n",
        "        self.true_branch = true_branch  # поддерево, удовлетворяющее условию в узле\n",
        "        self.false_branch = false_branch  # поддерево, не удовлетворяющее условию в узле"
      ]
    },
    {
      "cell_type": "code",
      "source": [
        "# И класс терминального узла (листа)\n",
        "\n",
        "class Leaf:\n",
        "    \n",
        "    def __init__(self, data, labels):\n",
        "        self.data = data\n",
        "        self.labels = labels  # y_true\n",
        "        self.prediction = self.predict_classification()  # y_pred\n",
        "        self.prediction_reg = self.predict_regression()\n",
        "        \n",
        "    def predict_classification(self):\n",
        "        try: # as np.bincount do not work with regression (assuming we train for class. and reg. tasks at one time)\n",
        "            counts = np.bincount(self.labels)\n",
        "            return np.argmax(counts)\n",
        "        except TypeError:\n",
        "            return None\n",
        "\n",
        "    def predict_regression(self):\n",
        "        return np.mean(self.labels)        "
      ],
      "metadata": {
        "id": "ksphzbQq6fun"
      },
      "execution_count": 4,
      "outputs": []
    },
    {
      "cell_type": "code",
      "source": [
        "# Расчёт критерия Джини\n",
        "\n",
        "def gini(labels):\n",
        "    #  подсчёт количества объектов разных классов\n",
        "    classes = np.bincount(labels)\n",
        "    impurity = 1     # \"impurity\" - \"нечистота\", степень неопределённости\n",
        "    impurity -= np.sum(np.power(classes / len(labels), 2))\n",
        "        \n",
        "    return impurity\n",
        "\n",
        "def reg_pure(labels):\n",
        "    return np.var(labels)  # np.power(labels-labels.mean(),2).sum()/len(labels)"
      ],
      "metadata": {
        "id": "gRtS8PbD6jFp"
      },
      "execution_count": 5,
      "outputs": []
    },
    {
      "cell_type": "code",
      "source": [
        "# Расчёт качества\n",
        "\n",
        "def quality(left_labels, right_labels, current_gini):\n",
        "\n",
        "    # доля выборки, ушедшей в левое поддерево\n",
        "    p = float(left_labels.shape[0]) / (left_labels.shape[0] + right_labels.shape[0])\n",
        "    \n",
        "    return current_gini - p * gini(left_labels) - (1 - p) * gini(right_labels)\n",
        "\n",
        "def quality_reg(left_labels, right_labels, current_reg):\n",
        "    p = float(left_labels.shape[0]) / (left_labels.shape[0] + right_labels.shape[0])\n",
        "    return current_reg - p * reg_pure(left_labels) - (1 - p) * reg_pure(right_labels)"
      ],
      "metadata": {
        "id": "t4MFfHhy6ltH"
      },
      "execution_count": 6,
      "outputs": []
    },
    {
      "cell_type": "code",
      "source": [
        "# Разбиение датасета в узле\n",
        "\n",
        "def split(data, labels, index, t):\n",
        "    \n",
        "    left = np.where(data[:, index] <= t)\n",
        "    right = np.where(data[:, index] > t)\n",
        "        \n",
        "    true_data = data[left]\n",
        "    false_data = data[right]\n",
        "    true_labels = labels[left]\n",
        "    false_labels = labels[right]\n",
        "        \n",
        "    return true_data, false_data, true_labels, false_labels"
      ],
      "metadata": {
        "id": "AVmpLuDG6n2K"
      },
      "execution_count": 7,
      "outputs": []
    },
    {
      "cell_type": "code",
      "source": [
        "# Нахождение наилучшего разбиения\n",
        "\n",
        "def find_best_split(data, labels):\n",
        "    \n",
        "    #  обозначим минимальное количество объектов в узле\n",
        "    min_leaf = 5\n",
        "    max_features = 1.\n",
        "\n",
        "    current_gini = gini(labels)\n",
        "\n",
        "    best_quality = 0\n",
        "    best_t = None\n",
        "    best_index = None\n",
        "    \n",
        "    n_features = int(max_features * data.shape[1])\n",
        "    features_idx_to_use = np.arange(n_features) if max_features == 1 else np.random.randint(0, n_features, size=n_features)\n",
        "\n",
        "    for index in features_idx_to_use:\n",
        "\n",
        "        t_values = np.unique([row[index] for row in data])\n",
        "        \n",
        "        for t in t_values:\n",
        "\n",
        "            true_data, false_data, true_labels, false_labels = split(data, labels, index, t)\n",
        "            #  пропускаем разбиения, где в узле остаётся менее 5 объектов\n",
        "            if len(true_data) < min_leaf or len(false_data) < min_leaf:\n",
        "                continue\n",
        "            \n",
        "            current_quality = quality(true_labels, false_labels, current_gini)\n",
        "            \n",
        "            #  выбираем порог, на котором получается максимальный прирост качества\n",
        "            if current_quality > best_quality:\n",
        "                best_quality, best_t, best_index = current_quality, t, index\n",
        "\n",
        "    return best_quality, best_t, best_index"
      ],
      "metadata": {
        "id": "GWMNZXiK6qBC"
      },
      "execution_count": 8,
      "outputs": []
    },
    {
      "cell_type": "code",
      "source": [
        "# Построение дерева посредством рекурсивной функции\n",
        "\n",
        "def build_tree(data, labels, current_depth=1, max_depth=5, min_sample_split=50):\n",
        "    if data.shape[0] < min_sample_split:\n",
        "        return Leaf(data, labels)\n",
        "\n",
        "    quality, t, index = find_best_split(data, labels)\n",
        "\n",
        "    #  Базовый случай — прекращаем рекурсию, когда нет прироста в качества\n",
        "    if quality == 0:\n",
        "        return Leaf(data, labels)\n",
        "    elif current_depth >= max_depth:\n",
        "        return Leaf(data, labels)\n",
        "\n",
        "    current_depth += 1\n",
        "\n",
        "    true_data, false_data, true_labels, false_labels = split(data, labels, index, t)\n",
        "\n",
        "    # Рекурсивно строим два поддерева\n",
        "    true_branch = build_tree(true_data, true_labels, current_depth=current_depth, max_depth=max_depth)\n",
        "    false_branch = build_tree(false_data, false_labels, current_depth=current_depth, max_depth=max_depth)\n",
        "\n",
        "    # Возвращаем класс узла со всеми поддеревьями, то есть целого дерева\n",
        "    return Node(index, t, true_branch, false_branch)"
      ],
      "metadata": {
        "id": "lhyxWVVg6sjb"
      },
      "execution_count": 9,
      "outputs": []
    },
    {
      "cell_type": "code",
      "source": [
        "# Проход объекта по дереву для его классификации\n",
        "\n",
        "def classify_object(obj, node):\n",
        "\n",
        "    #  Останавливаем рекурсию, если достигли листа\n",
        "    if isinstance(node, Leaf):\n",
        "        answer = node.prediction\n",
        "        return answer\n",
        "\n",
        "    if obj[node.index] <= node.t:\n",
        "        return classify_object(obj, node.true_branch)\n",
        "    else:\n",
        "        return classify_object(obj, node.false_branch)"
      ],
      "metadata": {
        "id": "i60en4vT6wLB"
      },
      "execution_count": 10,
      "outputs": []
    },
    {
      "cell_type": "code",
      "source": [
        "# Предсказание деревом для всего датасета\n",
        "\n",
        "def predict(data, tree):\n",
        "    \n",
        "    classes = []\n",
        "    for obj in data:\n",
        "        prediction = classify_object(obj, tree)\n",
        "        classes.append(prediction)\n",
        "    return classes"
      ],
      "metadata": {
        "id": "4i5Ag28u6yfd"
      },
      "execution_count": 11,
      "outputs": []
    },
    {
      "cell_type": "code",
      "source": [
        "tree = build_tree(X_train, y_train)\n",
        "\n",
        "train_pred = predict(X_train, tree)\n",
        "test_pred = predict(X_test, tree)\n",
        "\n",
        "print(classification_report(y_train, train_pred, digits=3))\n",
        "print(classification_report(y_test, test_pred, digits=3))"
      ],
      "metadata": {
        "colab": {
          "base_uri": "https://localhost:8080/"
        },
        "id": "-esVXwfu63pK",
        "outputId": "d7221be4-7dd9-4cec-a25e-d33c8a79e78f"
      },
      "execution_count": 12,
      "outputs": [
        {
          "output_type": "stream",
          "name": "stdout",
          "text": [
            "              precision    recall  f1-score   support\n",
            "\n",
            "           0      0.992     0.966     0.979       500\n",
            "           1      0.967     0.992     0.979       500\n",
            "\n",
            "    accuracy                          0.979      1000\n",
            "   macro avg      0.979     0.979     0.979      1000\n",
            "weighted avg      0.979     0.979     0.979      1000\n",
            "\n",
            "              precision    recall  f1-score   support\n",
            "\n",
            "           0      1.000     0.960     0.980       150\n",
            "           1      0.962     1.000     0.980       150\n",
            "\n",
            "    accuracy                          0.980       300\n",
            "   macro avg      0.981     0.980     0.980       300\n",
            "weighted avg      0.981     0.980     0.980       300\n",
            "\n"
          ]
        }
      ]
    },
    {
      "cell_type": "code",
      "source": [
        "sk_tree = DecisionTreeClassifier(max_depth=5, min_samples_leaf=5, max_features=1., min_samples_split=50)\n",
        "\n",
        "sk_tree.fit(X_train, y_train)\n",
        "sk_train_pred = sk_tree.predict(X_train)\n",
        "sk_test_pred = sk_tree.predict(X_test)\n",
        "\n",
        "print(classification_report(y_train, sk_train_pred, digits=3))\n",
        "print(classification_report(y_test, sk_test_pred, digits=3))"
      ],
      "metadata": {
        "colab": {
          "base_uri": "https://localhost:8080/"
        },
        "id": "VMK7LCCjlON4",
        "outputId": "8b436c20-d7ea-45fc-ca6a-54b66e2776be"
      },
      "execution_count": 13,
      "outputs": [
        {
          "output_type": "stream",
          "name": "stdout",
          "text": [
            "              precision    recall  f1-score   support\n",
            "\n",
            "           0      0.992     0.966     0.979       500\n",
            "           1      0.967     0.992     0.979       500\n",
            "\n",
            "    accuracy                          0.979      1000\n",
            "   macro avg      0.979     0.979     0.979      1000\n",
            "weighted avg      0.979     0.979     0.979      1000\n",
            "\n",
            "              precision    recall  f1-score   support\n",
            "\n",
            "           0      1.000     0.960     0.980       150\n",
            "           1      0.962     1.000     0.980       150\n",
            "\n",
            "    accuracy                          0.980       300\n",
            "   macro avg      0.981     0.980     0.980       300\n",
            "weighted avg      0.981     0.980     0.980       300\n",
            "\n"
          ]
        }
      ]
    },
    {
      "cell_type": "code",
      "source": [
        "# сгенерируем данные\n",
        "X, y = datasets.make_regression(n_samples=1300, n_features=5, n_informative=2, random_state=42)\n",
        "X_train, X_test, y_train, y_test = train_test_split(X, y, test_size=300, shuffle=True, random_state=42)"
      ],
      "metadata": {
        "id": "h9dE24NH0gQ7"
      },
      "execution_count": 14,
      "outputs": []
    },
    {
      "cell_type": "code",
      "source": [
        "class DecisionTreeReg(BaseEstimator, ClassifierMixin):\n",
        "    def __init__(self, min_samples_split=50, min_samples_leaf=5, max_features=1., max_depth=5):\n",
        "        self.min_samples_split = min_samples_split\n",
        "        self.min_samples_leaf = min_samples_leaf\n",
        "        self.max_features = max_features\n",
        "        self.max_depth = max_depth\n",
        "        self.tree = None\n",
        "\n",
        "    def calc_impurity(self, labels):\n",
        "        return np.var(labels)\n",
        "\n",
        "    def quality(self, left_labels, right_labels, current):\n",
        "        p = float(left_labels.shape[0]) / (left_labels.shape[0] + right_labels.shape[0])\n",
        "        return current - p * self.calc_impurity(left_labels) - (1 - p) * self.calc_impurity(right_labels)\n",
        "\n",
        "    def split(self, data, labels, index, t):\n",
        "        left = np.where(data[:, index] <= t)\n",
        "        right = np.where(data[:, index] > t)\n",
        "        \n",
        "        true_data = data[left]\n",
        "        false_data = data[right]\n",
        "        true_labels = labels[left]\n",
        "        false_labels = labels[right]\n",
        "        \n",
        "        return true_data, false_data, true_labels, false_labels\n",
        "\n",
        "    def find_best_split(self, data, labels):\n",
        "    \n",
        "        current = self.calc_impurity(labels)\n",
        "\n",
        "        best_quality = 0\n",
        "        best_t = None\n",
        "        best_index = None\n",
        "    \n",
        "        n_features = int(self.max_features * data.shape[1])\n",
        "        #indices = np.arange(n_features) if self.max_features == 1 else np.random.randint(0, n_features, size=n_features)\n",
        "\n",
        "        # searching for best split through selecting best feature subset of length [n_features,]\n",
        "        for indices in combinations(np.arange(data.shape[1]), r=n_features):  # more computationaly complex\n",
        "        #for index in indices:  # to use random n_features to look for best split - unindent two for-loops below\n",
        "            for index in indices:\n",
        "\n",
        "                t_values = np.unique([row[index] for row in data])\n",
        "        \n",
        "                for t in t_values:\n",
        "\n",
        "                    true_data, false_data, true_labels, false_labels = self.split(data, labels, index, t)\n",
        "\n",
        "                    if len(true_data) < self.min_samples_leaf or len(false_data) < self.min_samples_leaf:\n",
        "                        continue\n",
        "            \n",
        "                    current_quality = self.quality(true_labels, false_labels, current)\n",
        "            \n",
        "                    if current_quality > best_quality:\n",
        "                        best_quality, best_t, best_index = current_quality, t, index\n",
        "\n",
        "        return best_quality, best_t, best_index\n",
        "\n",
        "    def build_tree(self, data, labels, current_depth=1, max_depth=None):\n",
        "\n",
        "        if data.shape[0] < self.min_samples_split:\n",
        "            return Leaf(data, labels)\n",
        "\n",
        "        quality, t, index = self.find_best_split(data, labels)\n",
        "\n",
        "        if quality == 0:\n",
        "            return Leaf(data, labels)\n",
        "        elif current_depth >= self.max_depth:\n",
        "            return Leaf(data, labels)\n",
        "\n",
        "        current_depth += 1\n",
        "\n",
        "        true_data, false_data, true_labels, false_labels = self.split(data, labels, index, t)\n",
        "\n",
        "        true_branch = self.build_tree(true_data, true_labels, current_depth=current_depth, max_depth=self.max_depth)\n",
        "        false_branch = self.build_tree(false_data, false_labels, current_depth=current_depth, max_depth=self.max_depth)\n",
        "\n",
        "        return Node(index, t, true_branch, false_branch)\n",
        "\n",
        "    def predict_one_value(self, obj, node):\n",
        "\n",
        "        if isinstance(node, Leaf):\n",
        "            answer = node.prediction_reg\n",
        "            return answer\n",
        "\n",
        "        if obj[node.index] <= node.t:\n",
        "            return self.predict_one_value(obj, node.true_branch)\n",
        "        else:\n",
        "            return self.predict_one_value(obj, node.false_branch)\n",
        "\n",
        "    def fit(self, X, y=None):\n",
        "        self.tree = self.build_tree(X, y)\n",
        "        return self\n",
        "\n",
        "    def predict(self, X):\n",
        "        values = []\n",
        "        for obj in X:\n",
        "            prediction = self.predict_one_value(obj, self.tree)\n",
        "            values.append(prediction)\n",
        "        return np.array(values)\n",
        "\n",
        "    def __str__(self):\n",
        "        def plot_tree(node, spacing=\"\"):\n",
        "            if isinstance(node, Leaf):\n",
        "                print('{} \"Прогноз:\", {}'.format(spacing, node.prediction_reg))\n",
        "                return\n",
        "\n",
        "            print(spacing + 'Индекс', str(node.index))\n",
        "            print(spacing + 'Порог', str(node.t))\n",
        "\n",
        "            print(spacing + '--> True:')\n",
        "            plot_tree(node.true_branch, spacing + \"  \")\n",
        "\n",
        "            print(spacing + '--> False:')\n",
        "            plot_tree(node.false_branch, spacing + \"  \")\n",
        "        plot_tree(self.tree, spacing=\"\")\n",
        "        return ''"
      ],
      "metadata": {
        "id": "Z2DKffGx6nFT"
      },
      "execution_count": 15,
      "outputs": []
    },
    {
      "cell_type": "code",
      "source": [
        "tree = DecisionTreeReg(max_features=0.4) # as only 2 of 5 features are informative we can decrease max_features\n",
        "\n",
        "tree.fit(X_train, y_train)\n",
        "train_pred = tree.predict(X_train)\n",
        "test_pred = tree.predict(X_test)\n",
        "\n",
        "print(f'RMSE train: {mean_squared_error(y_train, train_pred, squared=False):.4f}')\n",
        "print(f'RMSE test: {mean_squared_error(y_test, test_pred, squared=False):.4f}')\n",
        "\n",
        "print(f'R^2 train: {r2_score(y_train, train_pred):.4f}')\n",
        "print(f'R^2 test: {r2_score(y_test, test_pred):.4f}')"
      ],
      "metadata": {
        "colab": {
          "base_uri": "https://localhost:8080/"
        },
        "id": "1XqlS5Cb4ScB",
        "outputId": "5dd54f1b-4335-4a89-b90b-088e6afe488a"
      },
      "execution_count": 16,
      "outputs": [
        {
          "output_type": "stream",
          "name": "stdout",
          "text": [
            "RMSE train: 21.3397\n",
            "RMSE test: 23.4345\n",
            "R^2 train: 0.9205\n",
            "R^2 test: 0.9059\n"
          ]
        }
      ]
    },
    {
      "cell_type": "code",
      "source": [
        "print(tree)"
      ],
      "metadata": {
        "colab": {
          "base_uri": "https://localhost:8080/"
        },
        "id": "2q_pg-4dQkg1",
        "outputId": "3a97c532-d96c-4fa7-d5e7-a906ed0cc5fe"
      },
      "execution_count": 17,
      "outputs": [
        {
          "output_type": "stream",
          "name": "stdout",
          "text": [
            "Индекс 0\n",
            "Порог 0.269294752580734\n",
            "--> True:\n",
            "  Индекс 0\n",
            "  Порог -0.6067002947652967\n",
            "  --> True:\n",
            "    Индекс 0\n",
            "    Порог -1.5255251709247388\n",
            "    --> True:\n",
            "      Индекс 4\n",
            "      Порог -0.07022036151761657\n",
            "      --> True:\n",
            "         \"Прогноз:\", -168.66400545161866\n",
            "      --> False:\n",
            "         \"Прогноз:\", -109.69161588475853\n",
            "    --> False:\n",
            "      Индекс 4\n",
            "      Порог 0.44194064956940904\n",
            "      --> True:\n",
            "         \"Прогноз:\", -83.1084832457409\n",
            "      --> False:\n",
            "         \"Прогноз:\", -29.182558333989274\n",
            "  --> False:\n",
            "    Индекс 4\n",
            "    Порог 0.3686733088729012\n",
            "    --> True:\n",
            "      Индекс 4\n",
            "      Порог -0.48712538376469605\n",
            "      --> True:\n",
            "         \"Прогноз:\", -44.525535267855176\n",
            "      --> False:\n",
            "         \"Прогноз:\", -13.700884370049769\n",
            "    --> False:\n",
            "      Индекс 0\n",
            "      Порог -0.32115903870570245\n",
            "      --> True:\n",
            "         \"Прогноз:\", 2.858522330297738\n",
            "      --> False:\n",
            "         \"Прогноз:\", 32.57504908576925\n",
            "--> False:\n",
            "  Индекс 0\n",
            "  Порог 1.0114630354083562\n",
            "  --> True:\n",
            "    Индекс 4\n",
            "    Порог -0.36961033604363397\n",
            "    --> True:\n",
            "      Индекс 4\n",
            "      Порог -1.3354815690998914\n",
            "      --> True:\n",
            "         \"Прогноз:\", -20.992313775935074\n",
            "      --> False:\n",
            "         \"Прогноз:\", 12.146960694196471\n",
            "    --> False:\n",
            "      Индекс 4\n",
            "      Порог 1.1172958315881276\n",
            "      --> True:\n",
            "         \"Прогноз:\", 51.29588523341352\n",
            "      --> False:\n",
            "         \"Прогноз:\", 102.6453936956243\n",
            "  --> False:\n",
            "    Индекс 4\n",
            "    Порог -0.18289644110484016\n",
            "    --> True:\n",
            "      Индекс 0\n",
            "      Порог 1.719040612841821\n",
            "      --> True:\n",
            "         \"Прогноз:\", 59.24069727027126\n",
            "      --> False:\n",
            "         \"Прогноз:\", 111.97223408636503\n",
            "    --> False:\n",
            "      Индекс 0\n",
            "      Порог 1.7549330716472415\n",
            "      --> True:\n",
            "         \"Прогноз:\", 116.47767280276902\n",
            "      --> False:\n",
            "         \"Прогноз:\", 178.83377937924033\n",
            "\n"
          ]
        }
      ]
    },
    {
      "cell_type": "code",
      "source": [
        "plt.figure(figsize=(8,8))\n",
        "sns.scatterplot(x=test_pred, y=y_test, alpha=0.6)\n",
        "plt.plot([-200, 220], [-200, 220], linestyle='--', color='red')\n",
        "plt.xlabel('Predicted values')\n",
        "plt.ylabel('True values')\n",
        "plt.title('True vs Predicted values')\n",
        "plt.grid()\n",
        "plt.show()"
      ],
      "metadata": {
        "colab": {
          "base_uri": "https://localhost:8080/",
          "height": 513
        },
        "id": "2iNEVGUvB14-",
        "outputId": "f5893537-ab2b-4143-cdc7-7ace24ffef98"
      },
      "execution_count": 18,
      "outputs": [
        {
          "output_type": "display_data",
          "data": {
            "text/plain": [
              "<Figure size 576x576 with 1 Axes>"
            ],
            "image/png": "[encoded data removed]"
          },
          "metadata": {
            "needs_background": "light"
          }
        }
      ]
    },
    {
      "cell_type": "code",
      "source": [
        "sk_tree = DecisionTreeRegressor(max_depth=5, min_samples_leaf=5, min_samples_split=50, max_features=.8,\n",
        "                                random_state=42)\n",
        "\n",
        "sk_tree.fit(X_train, y_train)\n",
        "train_pred = sk_tree.predict(X_train)\n",
        "test_pred = sk_tree.predict(X_test)\n",
        "\n",
        "print(f'RMSE train: {mean_squared_error(y_train, train_pred, squared=False):.4f}')\n",
        "print(f'RMSE test: {mean_squared_error(y_test, test_pred, squared=False):.4f}')\n",
        "\n",
        "print(f'R^2 train: {r2_score(y_train, train_pred):.4f}')\n",
        "print(f'R^2 test: {r2_score(y_test, test_pred):.4f}')"
      ],
      "metadata": {
        "colab": {
          "base_uri": "https://localhost:8080/"
        },
        "id": "EDiRh-wm4TFw",
        "outputId": "2b1cd30d-0e27-4a12-eeea-320f24f8036e"
      },
      "execution_count": 19,
      "outputs": [
        {
          "output_type": "stream",
          "name": "stdout",
          "text": [
            "RMSE train: 19.2578\n",
            "RMSE test: 23.2178\n",
            "R^2 train: 0.9352\n",
            "R^2 test: 0.9076\n"
          ]
        }
      ]
    },
    {
      "cell_type": "code",
      "source": [
        "plt.figure(figsize=(8,8))\n",
        "sns.scatterplot(x=test_pred, y=y_test, alpha=0.6)\n",
        "plt.plot([-200, 220], [-200, 220], linestyle='--', color='red')\n",
        "plt.xlabel('Predicted values')\n",
        "plt.ylabel('True values')\n",
        "plt.title('True vs Predicted values')\n",
        "plt.grid()\n",
        "plt.show()"
      ],
      "metadata": {
        "colab": {
          "base_uri": "https://localhost:8080/",
          "height": 513
        },
        "id": "NuuFMYEzkhYc",
        "outputId": "9b37c014-6af3-4405-82a3-d80115902c8e"
      },
      "execution_count": 20,
      "outputs": [
        {
          "output_type": "display_data",
          "data": {
            "text/plain": [
              "<Figure size 576x576 with 1 Axes>"
            ],
            "image/png": "[encoded data removed]"
          },
          "metadata": {
            "needs_background": "light"
          }
        }
      ]
    },
    {
      "cell_type": "code",
      "source": [
        "from sklearn.tree import export_graphviz"
      ],
      "metadata": {
        "id": "avUxFmfW4TIQ"
      },
      "execution_count": 203,
      "outputs": []
    },
    {
      "cell_type": "code",
      "source": [
        "export_graphviz(sk_tree, out_file='tree.dot', rounded=True, proportion=False, precision=2, filled=True)"
      ],
      "metadata": {
        "id": "u9dGIK-p4TK3"
      },
      "execution_count": 207,
      "outputs": []
    },
    {
      "cell_type": "code",
      "source": [
        "from subprocess import call\n",
        "call(['dot', '-Tpng', 'tree.dot', '-o', 'tree.png', '-Gdpi=600'])\n",
        "from IPython.display import Image\n",
        "Image(filename='tree.png')"
      ],
      "metadata": {
        "id": "89hSpCuyzynp"
      },
      "execution_count": null,
      "outputs": []
    }
  ],
  "metadata": {
    "colab": {
      "collapsed_sections": [],
      "name": "Lesson_4_script.ipynb",
      "provenance": []
    },
    "kernelspec": {
      "display_name": "Python 3",
      "language": "python",
      "name": "python3"
    },
    "language_info": {
      "codemirror_mode": {
        "name": "ipython",
        "version": 3
      },
      "file_extension": ".py",
      "mimetype": "text/x-python",
      "name": "python",
      "nbconvert_exporter": "python",
      "pygments_lexer": "ipython3",
      "version": "3.7.6"
    }
  },
  "nbformat": 4,
  "nbformat_minor": 0
}