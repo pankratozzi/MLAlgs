{
  "cells": [
    {
      "cell_type": "markdown",
      "metadata": {
        "id": "Kw01g10zBjZr"
      },
      "source": [
        "## Урок 1. Алгоритм линейной регрессии. Градиентный спуск"
      ]
    },
    {
      "cell_type": "code",
      "execution_count": 2,
      "metadata": {
        "id": "ak8b3KV45kVW"
      },
      "outputs": [],
      "source": [
        "import numpy as np\n",
        "import matplotlib.pyplot as plt"
      ]
    },
    {
      "cell_type": "markdown",
      "metadata": {
        "id": "VphnS-M8BjZ5"
      },
      "source": [
        "__Задача:__ предсказание баллов ЕГЭ ученика в зависимости от количества лет стажа его репетитора"
      ]
    },
    {
      "cell_type": "code",
      "execution_count": 3,
      "metadata": {
        "id": "i77tZbAd5plB",
        "outputId": "151f63ab-d9e5-431d-f791-13f761cf690e",
        "colab": {
          "base_uri": "https://localhost:8080/"
        }
      },
      "outputs": [
        {
          "output_type": "execute_result",
          "data": {
            "text/plain": [
              "array([[ 1,  1,  1,  1,  1,  1,  1,  1,  1,  1],\n",
              "       [ 1,  1,  2,  5,  3,  0,  5, 10,  1,  2]])"
            ]
          },
          "metadata": {},
          "execution_count": 3
        }
      ],
      "source": [
        "X = np.array([[1, 1, 1, 1, 1, 1, 1, 1, 1, 1],\n",
        "              [1, 1, 2, 5, 3, 0, 5, 10, 1, 2]])\n",
        "X"
      ]
    },
    {
      "cell_type": "code",
      "execution_count": null,
      "metadata": {
        "colab": {
          "base_uri": "https://localhost:8080/",
          "height": 34
        },
        "id": "ejifaMBe6VaP",
        "outputId": "190a541b-5c6d-48f6-8982-b513de5d7606"
      },
      "outputs": [
        {
          "data": {
            "text/plain": [
              "(2, 10)"
            ]
          },
          "execution_count": 27,
          "metadata": {},
          "output_type": "execute_result"
        }
      ],
      "source": [
        "X.shape"
      ]
    },
    {
      "cell_type": "code",
      "execution_count": 4,
      "metadata": {
        "id": "VsNrKi1Q6Wmh"
      },
      "outputs": [],
      "source": [
        "y = [45, 55, 50, 55, 60, 35, 75, 80, 50, 60]"
      ]
    },
    {
      "cell_type": "markdown",
      "metadata": {
        "id": "KCwytUyLBjZ_"
      },
      "source": [
        "Уравнение прямой: $y = a*x + b$"
      ]
    },
    {
      "cell_type": "code",
      "execution_count": null,
      "metadata": {
        "id": "NntLxvtU7CbH"
      },
      "outputs": [],
      "source": [
        "y_pred1 = 35 * np.ones(10) + X[1]*5\n",
        "y_pred2 = 40 * np.ones(10) + X[1]*7.5"
      ]
    },
    {
      "cell_type": "code",
      "execution_count": null,
      "metadata": {
        "colab": {
          "base_uri": "https://localhost:8080/",
          "height": 282
        },
        "id": "OTikrodr6n-i",
        "outputId": "9c347927-ae0d-40ba-bcd7-fdd9de2688bf"
      },
      "outputs": [
        {
          "data": {
            "image/png": "[encoded data removed]",
            "text/plain": [
              "<Figure size 432x288 with 1 Axes>"
            ]
          },
          "metadata": {
            "needs_background": "light"
          },
          "output_type": "display_data"
        }
      ],
      "source": [
        "plt.scatter(X[1], y)\n",
        "plt.plot(X[1], y_pred1, label='1')\n",
        "plt.plot(X[1], y_pred2, label='2')\n",
        "plt.legend()\n",
        "plt.show()"
      ]
    },
    {
      "cell_type": "markdown",
      "metadata": {
        "id": "PoGiEvgRBjaE"
      },
      "source": [
        "Простая ошибка:"
      ]
    },
    {
      "cell_type": "code",
      "execution_count": null,
      "metadata": {
        "id": "zbsqjAxH9WqI",
        "outputId": "275ebf45-370d-4b10-d672-a515fab31e7c"
      },
      "outputs": [
        {
          "data": {
            "text/plain": [
              "(65.0, -60.0)"
            ]
          },
          "execution_count": 7,
          "metadata": {},
          "output_type": "execute_result"
        }
      ],
      "source": [
        "err1 = np.sum(y - y_pred1)\n",
        "err2 = np.sum(y - y_pred2)\n",
        "err1, err2"
      ]
    },
    {
      "cell_type": "markdown",
      "metadata": {
        "id": "mKomUlv3BjaG"
      },
      "source": [
        "MAE (Mean Absolute Error):"
      ]
    },
    {
      "cell_type": "code",
      "execution_count": null,
      "metadata": {
        "id": "vUqCthPf9eYI",
        "outputId": "ae4eefa4-ba6b-4bee-a26d-fa573d9a70f9"
      },
      "outputs": [
        {
          "data": {
            "text/plain": [
              "(8.5, 9.0)"
            ]
          },
          "execution_count": 8,
          "metadata": {},
          "output_type": "execute_result"
        }
      ],
      "source": [
        "mae_1 = np.sum(np.abs(y - y_pred1)) / 10\n",
        "mae_2 = np.sum(np.abs(y - y_pred2)) / 10\n",
        "mae_1, mae_2"
      ]
    },
    {
      "cell_type": "markdown",
      "metadata": {
        "id": "QdkR8AXyBjaI"
      },
      "source": [
        "MSE (Mean Squared Error):"
      ]
    },
    {
      "cell_type": "code",
      "execution_count": null,
      "metadata": {
        "id": "XTn2bZIg_EBS",
        "outputId": "ec71ad62-9b62-4308-fcd0-239f107d35c3"
      },
      "outputs": [
        {
          "data": {
            "text/plain": [
              "(97.5, 188.75)"
            ]
          },
          "execution_count": 9,
          "metadata": {},
          "output_type": "execute_result"
        }
      ],
      "source": [
        "mse_1 = np.mean((y - y_pred1)**2)\n",
        "mse_2 = np.mean((y - y_pred2)**2)\n",
        "mse_1, mse_2"
      ]
    },
    {
      "cell_type": "markdown",
      "metadata": {
        "id": "R4zHyZ2Da5HV"
      },
      "source": [
        "Метод наименьших квадратов (МНК):"
      ]
    },
    {
      "cell_type": "code",
      "execution_count": null,
      "metadata": {
        "colab": {
          "base_uri": "https://localhost:8080/",
          "height": 34
        },
        "id": "GEeiext0BR1m",
        "outputId": "2a5e98e6-e201-4cf9-c113-bb207490b31e"
      },
      "outputs": [
        {
          "data": {
            "text/plain": [
              "(2, 10)"
            ]
          },
          "execution_count": 10,
          "metadata": {},
          "output_type": "execute_result"
        }
      ],
      "source": [
        "X.shape"
      ]
    },
    {
      "cell_type": "code",
      "execution_count": null,
      "metadata": {
        "colab": {
          "base_uri": "https://localhost:8080/",
          "height": 34
        },
        "id": "j1BN1FZHBVo8",
        "outputId": "d5820bdf-e0a3-4de0-96ef-b73e9b43fd64"
      },
      "outputs": [
        {
          "data": {
            "text/plain": [
              "(10, 2)"
            ]
          },
          "execution_count": 11,
          "metadata": {},
          "output_type": "execute_result"
        }
      ],
      "source": [
        "X.T.shape"
      ]
    },
    {
      "cell_type": "code",
      "execution_count": null,
      "metadata": {
        "id": "X6Jhs8W8BjaK",
        "outputId": "42e35057-8799-4927-8ee2-b320fa3e88e4"
      },
      "outputs": [
        {
          "data": {
            "text/plain": [
              "True"
            ]
          },
          "execution_count": 12,
          "metadata": {},
          "output_type": "execute_result"
        }
      ],
      "source": [
        "all(X @ y == np.dot(X,y))"
      ]
    },
    {
      "cell_type": "code",
      "execution_count": null,
      "metadata": {
        "colab": {
          "base_uri": "https://localhost:8080/",
          "height": 34
        },
        "id": "mnyZzkaDBegD",
        "outputId": "368800a6-deef-46d0-b27f-d6eb5e46a743"
      },
      "outputs": [
        {
          "data": {
            "text/plain": [
              "array([45.0625,  3.8125])"
            ]
          },
          "execution_count": 13,
          "metadata": {},
          "output_type": "execute_result"
        }
      ],
      "source": [
        "W = np.linalg.inv(np.dot(X, X.T)) @ X @ y\n",
        "W"
      ]
    },
    {
      "cell_type": "code",
      "execution_count": null,
      "metadata": {
        "id": "IukREVxDBjaM"
      },
      "outputs": [],
      "source": [
        "y_pred3 = W[0] * X[0] + W[1] * X[1]"
      ]
    },
    {
      "cell_type": "code",
      "execution_count": null,
      "metadata": {
        "colab": {
          "base_uri": "https://localhost:8080/",
          "height": 282
        },
        "id": "Lyg-J3H7Bnv5",
        "outputId": "7701dd28-d123-4773-cd1f-1439abfb6d90"
      },
      "outputs": [
        {
          "data": {
            "image/png": "[encoded data removed]",
            "text/plain": [
              "<Figure size 432x288 with 1 Axes>"
            ]
          },
          "metadata": {
            "needs_background": "light"
          },
          "output_type": "display_data"
        }
      ],
      "source": [
        "plt.scatter(X[1], y)\n",
        "plt.plot(X[1], y_pred1, label='1 - manual')\n",
        "plt.plot(X[1], y_pred2, label='2 - manual')\n",
        "plt.plot(X[1], y_pred3, label='3 - analytical solution')\n",
        "plt.legend()\n",
        "plt.show()"
      ]
    },
    {
      "cell_type": "code",
      "execution_count": 19,
      "metadata": {
        "id": "JTSC2cFnCd8T"
      },
      "outputs": [],
      "source": [
        "def calc_mae(y, y_pred):\n",
        "    err = np.mean(np.abs(y - y_pred))\n",
        "    return err\n",
        "\n",
        "def calc_mse(y, y_pred):\n",
        "    err = np.mean((y - y_pred)**2) # <=> 1/n * np.sum((y_pred - y)**2)\n",
        "    return err"
      ]
    },
    {
      "cell_type": "code",
      "execution_count": null,
      "metadata": {
        "colab": {
          "base_uri": "https://localhost:8080/",
          "height": 34
        },
        "id": "MYSrwISJDGfS",
        "outputId": "891bfd3a-142c-466c-a9d9-7ebfb303e86c"
      },
      "outputs": [
        {
          "data": {
            "text/plain": [
              "(8.5, 97.5)"
            ]
          },
          "execution_count": 17,
          "metadata": {},
          "output_type": "execute_result"
        }
      ],
      "source": [
        "calc_mae(y, y_pred1), calc_mse(y, y_pred1)"
      ]
    },
    {
      "cell_type": "code",
      "execution_count": null,
      "metadata": {
        "colab": {
          "base_uri": "https://localhost:8080/",
          "height": 34
        },
        "outputId": "891bfd3a-142c-466c-a9d9-7ebfb303e86c",
        "id": "oi4FNXFlBjaN"
      },
      "outputs": [
        {
          "data": {
            "text/plain": [
              "(9.0, 188.75)"
            ]
          },
          "execution_count": 18,
          "metadata": {},
          "output_type": "execute_result"
        }
      ],
      "source": [
        "calc_mae(y, y_pred2), calc_mse(y, y_pred2)"
      ]
    },
    {
      "cell_type": "code",
      "execution_count": null,
      "metadata": {
        "colab": {
          "base_uri": "https://localhost:8080/",
          "height": 34
        },
        "id": "_WtO6lvhDmQ6",
        "outputId": "8de8b895-85d8-448e-f565-b70e93a5dd25"
      },
      "outputs": [
        {
          "data": {
            "text/plain": [
              "(5.7875, 43.96874999999999)"
            ]
          },
          "execution_count": 19,
          "metadata": {},
          "output_type": "execute_result"
        }
      ],
      "source": [
        "calc_mae(y, y_pred3), calc_mse(y, y_pred3)"
      ]
    },
    {
      "cell_type": "markdown",
      "metadata": {
        "id": "JAOgIXLRa--g"
      },
      "source": [
        "Градиентный спуск"
      ]
    },
    {
      "cell_type": "code",
      "execution_count": null,
      "metadata": {
        "id": "DNebwUP7Fd8F"
      },
      "outputs": [],
      "source": [
        "n = 10\n",
        "Q = 1/n * np.sum((y_pred3 - y)**2) # функционал ошибки, y = X*w"
      ]
    },
    {
      "cell_type": "code",
      "execution_count": null,
      "metadata": {
        "id": "5DKkvmkwHdOx"
      },
      "outputs": [],
      "source": [
        "alpha = 1e-2 # величина шага\n",
        "g = alpha * (1/n * 2 * np.sum(X[0] * (W[0] * X[0] - y)))"
      ]
    },
    {
      "cell_type": "code",
      "execution_count": null,
      "metadata": {
        "colab": {
          "base_uri": "https://localhost:8080/",
          "height": 34
        },
        "id": "ZVRCF5P2MYI6",
        "outputId": "0b0e2f05-a23c-4bf8-f37d-b4240d2e0af0"
      },
      "outputs": [
        {
          "data": {
            "text/plain": [
              "(45.062500000000014, 45.29125000000001)"
            ]
          },
          "execution_count": 22,
          "metadata": {},
          "output_type": "execute_result"
        }
      ],
      "source": [
        "W[0], W[0] - g"
      ]
    },
    {
      "cell_type": "markdown",
      "metadata": {
        "id": "QqGEYJDNBjaP"
      },
      "source": [
        "### Практическое задание"
      ]
    },
    {
      "cell_type": "markdown",
      "metadata": {
        "id": "huXrhXQsZTMt"
      },
      "source": [
        "1. Подберите скорость обучения (alpha) и количество итераций."
      ]
    },
    {
      "cell_type": "code",
      "source": [
        "from sklearn.model_selection import ParameterGrid"
      ],
      "metadata": {
        "id": "hEGo6t6Rpfv3"
      },
      "execution_count": 20,
      "outputs": []
    },
    {
      "cell_type": "code",
      "execution_count": 28,
      "metadata": {
        "colab": {
          "base_uri": "https://localhost:8080/"
        },
        "id": "IDB22MQKMYaJ",
        "outputId": "f1a04e02-aeec-4a84-c225-86750ee3e478"
      },
      "outputs": [
        {
          "output_type": "stream",
          "name": "stdout",
          "text": [
            "Number of objects = 10        \n",
            "Initial weights = [1.  0.5] \n",
            "\n",
            "\n",
            " ========== Learning rate: 0.01, number of iterations: 100 ==========\n",
            "Iteration 99: W_new = [28.22929764  6.86494171], MSE = 179.9\n",
            "\n",
            " ========== Learning rate: 0.01, number of iterations: 500 ==========\n",
            "Iteration 499: W_new = [44.89002963  3.84377484], MSE = 43.98\n",
            "\n",
            " ========== Learning rate: 0.01, number of iterations: 800 ==========\n",
            "Iteration 799: W_new = [45.06238687  3.81252052], MSE = 43.97\n",
            "\n",
            " ========== Learning rate: 0.01, number of iterations: 1000 ==========\n",
            "Iteration 999: W_new = [45.06249999  3.8125    ], MSE = 43.97\n",
            "\n",
            " ========== Learning rate: 0.01, number of iterations: 4000 ==========\n",
            "Iteration 3999: W_new = [45.0625  3.8125], MSE = 43.97\n",
            "\n",
            " ========== Learning rate: 0.001, number of iterations: 100 ==========\n",
            "Iteration 99: W_new = [45.0625  3.8125], MSE = 43.97\n",
            "\n",
            " ========== Learning rate: 0.001, number of iterations: 500 ==========\n",
            "Iteration 499: W_new = [45.0625  3.8125], MSE = 43.97\n",
            "\n",
            " ========== Learning rate: 0.001, number of iterations: 800 ==========\n",
            "Iteration 799: W_new = [45.0625  3.8125], MSE = 43.97\n",
            "\n",
            " ========== Learning rate: 0.001, number of iterations: 1000 ==========\n",
            "Iteration 999: W_new = [45.0625  3.8125], MSE = 43.97\n",
            "\n",
            " ========== Learning rate: 0.001, number of iterations: 4000 ==========\n",
            "Iteration 3999: W_new = [45.0625  3.8125], MSE = 43.97\n",
            "\n",
            " ========== Learning rate: 0.0001, number of iterations: 100 ==========\n",
            "Iteration 99: W_new = [45.0625  3.8125], MSE = 43.97\n",
            "\n",
            " ========== Learning rate: 0.0001, number of iterations: 500 ==========\n",
            "Iteration 499: W_new = [45.0625  3.8125], MSE = 43.97\n",
            "\n",
            " ========== Learning rate: 0.0001, number of iterations: 800 ==========\n",
            "Iteration 799: W_new = [45.0625  3.8125], MSE = 43.97\n",
            "\n",
            " ========== Learning rate: 0.0001, number of iterations: 1000 ==========\n",
            "Iteration 999: W_new = [45.0625  3.8125], MSE = 43.97\n",
            "\n",
            " ========== Learning rate: 0.0001, number of iterations: 4000 ==========\n",
            "Iteration 3999: W_new = [45.0625  3.8125], MSE = 43.97\n"
          ]
        }
      ],
      "source": [
        "param_grid = {'alpha': [1e-2, 1e-3, 1e-4], 'n_iter': [100, 500, 800, 1000, 4000]}\n",
        "pg = ParameterGrid(param_grid)\n",
        "n = X.shape[1]\n",
        "alpha = 1e-2\n",
        "W = np.array([1, 0.5])\n",
        "print(f'Number of objects = {n} \\\n",
        "       \\nInitial weights = {W} \\n')\n",
        "\n",
        "for params in list(pg):\n",
        "    alpha, n_iter = params['alpha'], params['n_iter']\n",
        "    print('\\n', '='*10, f'Learning rate: {alpha}, number of iterations: {n_iter}', '='*10)\n",
        "    for i in range(n_iter):\n",
        "        y_pred = np.dot(W, X)\n",
        "        for k in range(W.shape[0]):\n",
        "            W[k] -= alpha * (1/n * 2 * np.sum(X[k] * (y_pred - y)))\n",
        "        err = calc_mse(y, y_pred)\n",
        "        #if i % 100 == 0:\n",
        "        #    alpha /= 1.1\n",
        "        #    print(f'Iteration #{i}: W_new = {W}, MSE = {round(err,2)}')\n",
        "    print(f'Iteration {i}: W_new = {W}, MSE = {round(err, 2)}')\n",
        "\n",
        "# ========== Learning rate: 0.001, number of iterations: 100 =========="
      ]
    },
    {
      "cell_type": "markdown",
      "metadata": {
        "id": "5Qu1o4JhZYwI"
      },
      "source": [
        "*2. В этом коде мы избавляемся от итераций по весам, но здесь есть ошибка, исправьте её.\n"
      ]
    },
    {
      "cell_type": "code",
      "execution_count": 40,
      "metadata": {
        "colab": {
          "base_uri": "https://localhost:8080/"
        },
        "id": "WZZzDCQLY4pA",
        "outputId": "a143e557-cab4-420b-ce70-e56f0c4242af"
      },
      "outputs": [
        {
          "output_type": "stream",
          "name": "stdout",
          "text": [
            "Number of objects = 10        \n",
            "Learning rate = 0.01        \n",
            "Initial weights = [1.  0.5] \n",
            "\n",
            "Iteration #0: W_new = [2.08 4.27], MSE = 3047.75\n",
            "Iteration #100: W_new = [28.38281518  6.83710367], MSE = 177.43\n",
            "Iteration #200: W_new = [38.38986469  5.02247953], MSE = 65.33\n",
            "Iteration #300: W_new = [42.39314129  4.29654705], MSE = 47.39\n",
            "Iteration #400: W_new = [43.99463466  4.00614091], MSE = 44.52\n",
            "Iteration #500: W_new = [44.63530512  3.8899652 ], MSE = 44.06\n",
            "Iteration #600: W_new = [44.89160255  3.84348962], MSE = 43.98\n",
            "Iteration #700: W_new = [44.99413322  3.82489726], MSE = 43.97\n",
            "Iteration #800: W_new = [45.03515017  3.81745947], MSE = 43.97\n",
            "Iteration #900: W_new = [45.05155882  3.81448401], MSE = 43.97\n"
          ]
        }
      ],
      "source": [
        "n = X.shape[1]\n",
        "alpha = 1e-2\n",
        "W = np.array([1, 0.5])\n",
        "print(f'Number of objects = {n} \\\n",
        "       \\nLearning rate = {alpha} \\\n",
        "       \\nInitial weights = {W} \\n')\n",
        "\n",
        "for i in range(1000):\n",
        "    y_pred = np.dot(W, X)  # [2,] x [2,10] -> [10,]\n",
        "    err = calc_mse(y, y_pred)\n",
        "    W -= alpha * (2/n * np.sum(X.T * (y_pred - y).reshape(X.T.shape[0],1), axis=0)) # ... * sum_row [10,2]*[10,1]=[2,]\n",
        "    #error = (y_pred - y) # или так\n",
        "    #W -= alpha * (2/n * X.dot(error)) # [2,10]x[10,] -> [2,]\n",
        "    if i % 100 == 0:\n",
        "        print(f'Iteration #{i}: W_new = {W}, MSE = {round(err,2)}')"
      ]
    },
    {
      "cell_type": "markdown",
      "metadata": {
        "id": "dNd19yVmBjaR"
      },
      "source": [
        "*3. Вместо того чтобы задавать количество итераций, задайте условие остановки алгоритма, когда ошибка за итерацию начинает изменяться ниже определённого порога — упрощённый аналог параметра tol в линейной регрессии в sklearn."
      ]
    },
    {
      "cell_type": "code",
      "source": [
        "n = X.shape[1]\n",
        "alpha = 1e-2\n",
        "W = np.array([1, 0.5])\n",
        "print(f'Number of objects = {n} \\\n",
        "       \\nLearning rate = {alpha} \\\n",
        "       \\nInitial weights = {W} \\n')\n",
        "eps = 0.00001\n",
        "\n",
        "for i in range(1000):\n",
        "    y_pred = np.dot(W, X)\n",
        "    err = calc_mse(y, y_pred)\n",
        "    if i>0 and np.abs(err - error) < eps:\n",
        "        break\n",
        "    W -= alpha * (2/n * np.sum(X.T * (y_pred - y).reshape(X.T.shape[0],1), axis=0))\n",
        "    error = err\n",
        "    if i % 100 == 0:\n",
        "        print(f'Iteration #{i}: W_new = {W}, MSE = {round(err,2)}')"
      ],
      "metadata": {
        "colab": {
          "base_uri": "https://localhost:8080/"
        },
        "id": "it0p5dCvng3O",
        "outputId": "f1cdb101-ca8c-4088-a15b-38b153ce8d73"
      },
      "execution_count": 42,
      "outputs": [
        {
          "output_type": "stream",
          "name": "stdout",
          "text": [
            "Number of objects = 10        \n",
            "Learning rate = 0.01        \n",
            "Initial weights = [1.  0.5] \n",
            "\n",
            "Iteration #0: W_new = [2.08 4.27], MSE = 3047.75\n",
            "Iteration #100: W_new = [28.38281518  6.83710367], MSE = 177.43\n",
            "Iteration #200: W_new = [38.38986469  5.02247953], MSE = 65.33\n",
            "Iteration #300: W_new = [42.39314129  4.29654705], MSE = 47.39\n",
            "Iteration #400: W_new = [43.99463466  4.00614091], MSE = 44.52\n",
            "Iteration #500: W_new = [44.63530512  3.8899652 ], MSE = 44.06\n",
            "Iteration #600: W_new = [44.89160255  3.84348962], MSE = 43.98\n",
            "Iteration #700: W_new = [44.99413322  3.82489726], MSE = 43.97\n"
          ]
        }
      ]
    },
    {
      "cell_type": "markdown",
      "source": [
        "### Более продвинутые способы"
      ],
      "metadata": {
        "id": "PfntkwAEIJHy"
      }
    },
    {
      "cell_type": "code",
      "execution_count": null,
      "metadata": {
        "id": "VjV39BwKBjaR",
        "colab": {
          "base_uri": "https://localhost:8080/"
        },
        "outputId": "d6a76c4f-d892-4374-bf3c-75e7ea70e5a9"
      },
      "outputs": [
        {
          "output_type": "stream",
          "name": "stdout",
          "text": [
            "43.96875000000001\n"
          ]
        }
      ],
      "source": [
        "from sklearn.linear_model import LinearRegression\n",
        "\n",
        "lr = LinearRegression()\n",
        "lr.fit(X.transpose(1,0), y)\n",
        "y_pred = lr.predict(X.transpose(1,0))\n",
        "print(calc_mse(y, y_pred))"
      ]
    },
    {
      "cell_type": "markdown",
      "source": [
        "#### самодельная регрессия"
      ],
      "metadata": {
        "id": "bJLNtb3BTciE"
      }
    },
    {
      "cell_type": "code",
      "source": [
        "from sklearn.base import BaseEstimator, TransformerMixin\n",
        "\n",
        "class CustomLinearRegression(BaseEstimator, TransformerMixin): # наследование для работы в пайплайне\n",
        "    def __init__(self, eta=0.001, epochs=20, l2=0., seed=None, patience=15, min_delta=0.0,\n",
        "                 eta_factor=0.1, eta_patience=15, eta_min_delta=0.0, min_eta=1e-8):\n",
        "        self.eta = eta # скорость обучения\n",
        "        self.epochs = epochs # количество эпох обучения\n",
        "        self.random = np.random.RandomState(seed) # воспроизводимость\n",
        "        self.min_loss = np.inf\n",
        "        self.patience = patience\n",
        "        self.min_delta = min_delta\n",
        "        self.counter = 0\n",
        "        self.counter_eta = 0\n",
        "        self.l2 = l2 # коэффициент регуляризации\n",
        "        self.eta_factor = eta_factor\n",
        "        self.eta_patience = eta_patience\n",
        "        self.eta_min_delta = eta_min_delta\n",
        "        self.min_eta = min_eta\n",
        "        self.best_weights = None\n",
        "        assert self.min_eta < self.eta, 'Set learning rate higher than min_learning_rate.'\n",
        "    def fit(self, X, y):\n",
        "        self.weights = self.random.normal(loc=0.0, scale=0.01, # инициализируем веса близкими к 0 с нормальным распределением\n",
        "                                      size=(1 + X.shape[1]))\n",
        "\n",
        "        self.losses = []\n",
        "        for _ in range(self.epochs):\n",
        "            output = self.input_(X) # выисляем выход сети \n",
        "            errors = (output - y) # вычисляем ошибку\n",
        "            grad = (X.T.dot(errors) + self.l2 * self.weights[1:]) # вычисляем градиент + регуляризация (np.sign(weights[1:]) для L1) / *2/X.shape[0]\n",
        "            self.weights[1:] -= self.eta * grad  # обновляем веса умножаем на скорость обучения\n",
        "            self.weights[0] -= self.eta * errors.sum() # bias не регуляризируется\n",
        "            l2_term = self.l2 * np.sum(self.weights[1:]**2) # параметр L2 для целевой функции\n",
        "            loss = (errors**2).sum() / 2.0 + l2_term # вычисление среднекв-ой ошибки (которую мы стремимся миниминзировать)\n",
        "            self.losses.append(loss) # собираем значения потерь, чтобы их потом визуализировать\n",
        "            if loss - self.min_loss < self.min_delta:\n",
        "                self.min_loss = loss\n",
        "                self.best_weights = self.weights.copy()\n",
        "                self.counter = 0\n",
        "                self.counter_eta = 0\n",
        "            else:\n",
        "                self.counter += 1\n",
        "                self.counter_eta += 1\n",
        "            if self.counter == self.patience:\n",
        "                self.weights = self.best_weights\n",
        "                print(f'Loss did not improve for {self.patience} epochs. Training stopped.')\n",
        "                break\n",
        "            if self.counter_eta == self.eta_patience:\n",
        "                self.eta *= self.eta_factor\n",
        "            if self.eta <= self.min_eta:\n",
        "                self.weights = self.best_weights\n",
        "                print(f'Learning rate is equal to min_learning rate: {self.eta}, training stopped')\n",
        "                break\n",
        "        return self\n",
        "    def input_(self, X): # <X,W> = x1 * w1 + x2 * w2 + ... + b\n",
        "        return np.dot(X, self.weights[1:]) + self.weights[0]\n",
        "    def predict(self, X): # вычисление вывода - линейная активация\n",
        "        return self.input_(X)"
      ],
      "metadata": {
        "id": "8XcIWiYBh5v9"
      },
      "execution_count": 43,
      "outputs": []
    },
    {
      "cell_type": "code",
      "source": [
        "lr = CustomLinearRegression(eta=0.01, epochs=800)\n",
        "lr.fit(X.transpose(1,0), y)\n",
        "print(calc_mse(y, lr.predict(X.transpose(1,0))))"
      ],
      "metadata": {
        "colab": {
          "base_uri": "https://localhost:8080/"
        },
        "id": "1kABD2thiJYk",
        "outputId": "34128e19-33bd-4f82-ef74-beb1c5fdf8a6"
      },
      "execution_count": 44,
      "outputs": [
        {
          "output_type": "stream",
          "name": "stdout",
          "text": [
            "Loss did not improve for 15 epochs. Training stopped.\n",
            "43.96875\n"
          ]
        }
      ]
    },
    {
      "cell_type": "code",
      "source": [
        "plt.figure(figsize=(8,8))\n",
        "plt.title('Losses over increasing epochs')\n",
        "plt.plot(np.arange(245), lr.losses, lw=2, c='red')  # 245 из-за ранней остановки\n",
        "plt.xlabel('epochs')\n",
        "plt.ylabel('losses')\n",
        "plt.grid()\n",
        "plt.show()"
      ],
      "metadata": {
        "colab": {
          "base_uri": "https://localhost:8080/",
          "height": 513
        },
        "id": "1U8IZv1QYCPH",
        "outputId": "4fa5f9b9-9ed5-4e1c-a7c9-386907b790db"
      },
      "execution_count": 49,
      "outputs": [
        {
          "output_type": "display_data",
          "data": {
            "text/plain": [
              "<Figure size 576x576 with 1 Axes>"
            ],
            "image/png": "[encoded data removed]"
          },
          "metadata": {
            "needs_background": "light"
          }
        }
      ]
    },
    {
      "cell_type": "code",
      "source": [
        "# можно так, вычислять градиенты с помощью PyTorch, хотя на таком наборе данных это явно! избыточно\n",
        "import torch\n",
        "import torch.nn as nn"
      ],
      "metadata": {
        "id": "tc2GyhSiihaL"
      },
      "execution_count": 45,
      "outputs": []
    },
    {
      "cell_type": "code",
      "source": [
        "Xt = torch.as_tensor(X.T, dtype=torch.float32)\n",
        "yt = torch.as_tensor(y, dtype=torch.float32).view(-1, 1)\n",
        "\n",
        "model = nn.Sequential(nn.Linear(2, 1),).to('cpu')\n",
        "\n",
        "opt = torch.optim.SGD(model.parameters(), lr=0.01) # стохастический градиентный спуск\n",
        "loss_fn = nn.MSELoss()\n",
        "\n",
        "model.train()\n",
        "\n",
        "for i in range(600):\n",
        "    opt.zero_grad()\n",
        "\n",
        "    out = model(Xt)\n",
        "    loss = loss_fn(out, yt)\n",
        "    loss.backward()\n",
        "    opt.step()\n",
        "\n",
        "    if (i+1) % 100 == 0:\n",
        "        print(f'MSE loss = {loss.item():.6f}')"
      ],
      "metadata": {
        "colab": {
          "base_uri": "https://localhost:8080/"
        },
        "id": "o6cOm18LE-0w",
        "outputId": "f3f69e5e-d349-41cc-8355-73293ec48a79"
      },
      "execution_count": 46,
      "outputs": [
        {
          "output_type": "stream",
          "name": "stdout",
          "text": [
            "MSE loss = 67.621536\n",
            "MSE loss = 44.638592\n",
            "MSE loss = 43.987717\n",
            "MSE loss = 43.969288\n",
            "MSE loss = 43.968765\n",
            "MSE loss = 43.968754\n"
          ]
        }
      ]
    },
    {
      "cell_type": "markdown",
      "source": [
        "Сделайте выводы по результатам работы с GD : что повышает качество результата, что понижает\n",
        "\n",
        "В данной модели мы фактически можем повлиять на качество путем подбора гиперпараметров (скорость обучения - чтобы не слишком долго идти к сходимости и не пропустить глобальный минимум, количестсво эпох - сколько шагов делать к минимуму), либо путем обработки входных данных: масштабирование, обработка выбросов, генерация новых признаков (в т.ч. полиномиальных - для линейной модели, пытающейся описать нелинейную зависимость), регуляризация (для оптимизации - борьба с переобучением, модели для работы с новыми данными) и т.п."
      ],
      "metadata": {
        "id": "bq30n2l1Wx2n"
      }
    }
  ],
  "metadata": {
    "colab": {
      "collapsed_sections": [],
      "name": "Lesson_1_hw.ipynb",
      "provenance": []
    },
    "kernelspec": {
      "display_name": "Python 3",
      "language": "python",
      "name": "python3"
    },
    "language_info": {
      "codemirror_mode": {
        "name": "ipython",
        "version": 3
      },
      "file_extension": ".py",
      "mimetype": "text/x-python",
      "name": "python",
      "nbconvert_exporter": "python",
      "pygments_lexer": "ipython3",
      "version": "3.7.6"
    }
  },
  "nbformat": 4,
  "nbformat_minor": 0
}