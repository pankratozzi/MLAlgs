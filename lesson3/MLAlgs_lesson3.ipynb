{
  "cells": [
    {
      "cell_type": "markdown",
      "metadata": {
        "id": "-h6E40fAWNJT"
      },
      "source": [
        "### Урок 3. Классификация. Логистическая регрессия"
      ]
    },
    {
      "cell_type": "code",
      "execution_count": 1,
      "metadata": {
        "collapsed": true,
        "id": "zhwkeWtb1O0w"
      },
      "outputs": [],
      "source": [
        "import numpy as np\n",
        "import matplotlib.pyplot as plt"
      ]
    },
    {
      "cell_type": "code",
      "execution_count": 107,
      "metadata": {
        "collapsed": true,
        "id": "FeKFn2yb1To4"
      },
      "outputs": [],
      "source": [
        "X = np.array([[1, 1, 1, 1, 1, 1, 1, 1, 1, 1],\n",
        "              [1, 1, 2, 5, 3, 0, 5, 10, 1, 2],\n",
        "              [500, 700, 750, 600, 1450, 800, 1500, 2000, 450, 1000],\n",
        "              [1, 1, 2, 1, 2,  1, 3, 3, 1, 2]], dtype = np.float64)\n",
        "y = np.array([0, 0, 1, 0, 1, 0, 1, 0, 1, 1], dtype = np.float64)"
      ]
    },
    {
      "cell_type": "code",
      "execution_count": 3,
      "metadata": {
        "collapsed": true,
        "id": "M-aO1NTxOUfo"
      },
      "outputs": [],
      "source": [
        "def calc_std_feat(x):\n",
        "    res = (x - x.mean()) / x.std()\n",
        "    return res"
      ]
    },
    {
      "cell_type": "code",
      "execution_count": 110,
      "metadata": {
        "collapsed": true,
        "id": "D8EL0iGJOVpe"
      },
      "outputs": [],
      "source": [
        "X_st = X.copy()\n",
        "X_st[2, :] = calc_std_feat(X[2, :])"
      ]
    },
    {
      "cell_type": "code",
      "execution_count": 5,
      "metadata": {
        "collapsed": true,
        "id": "qMR5pOA38dDw"
      },
      "outputs": [],
      "source": [
        "def calc_logloss(y, y_pred):\n",
        "    err = - np.mean(y * np.log(y_pred) + (1.0 - y) * np.log(1.0 - y_pred))\n",
        "    err = np.sum(err)\n",
        "    return err"
      ]
    },
    {
      "cell_type": "code",
      "execution_count": 6,
      "metadata": {
        "colab": {
          "base_uri": "https://localhost:8080/"
        },
        "id": "R6zfOHMrBvnX",
        "outputId": "b6cfcc4b-c1af-4d17-de5b-ff64469fb2ff"
      },
      "outputs": [
        {
          "output_type": "execute_result",
          "data": {
            "text/plain": [
              "0.10536051565782628"
            ]
          },
          "metadata": {},
          "execution_count": 6
        }
      ],
      "source": [
        "# Пример применения\n",
        "y1 = np.array([1, 0])\n",
        "y_pred1 = np.array([0.9, 0.1])\n",
        "calc_logloss(y1, y_pred1)"
      ]
    },
    {
      "cell_type": "code",
      "execution_count": 7,
      "metadata": {
        "collapsed": true,
        "id": "EEF9rWPNDnss"
      },
      "outputs": [],
      "source": [
        "def sigmoid(z):\n",
        "    res = 1 / (1 + np.exp(np.clip(-z, -250, 250)))\n",
        "    return res"
      ]
    },
    {
      "cell_type": "code",
      "execution_count": 8,
      "metadata": {
        "collapsed": true,
        "id": "_9tN8lBEEeXU"
      },
      "outputs": [],
      "source": [
        "z = np.linspace(-10, 10, 101)"
      ]
    },
    {
      "cell_type": "code",
      "execution_count": 9,
      "metadata": {
        "collapsed": true,
        "id": "nvIe3RpbEp4l"
      },
      "outputs": [],
      "source": [
        "probabilities = sigmoid(z)"
      ]
    },
    {
      "cell_type": "code",
      "execution_count": 10,
      "metadata": {
        "colab": {
          "base_uri": "https://localhost:8080/",
          "height": 265
        },
        "id": "jQsCfht0Et1V",
        "outputId": "742776b6-2410-4e30-e049-95c2b166ebbe"
      },
      "outputs": [
        {
          "output_type": "display_data",
          "data": {
            "text/plain": [
              "<Figure size 432x288 with 1 Axes>"
            ],
            "image/png": "[encoded data removed]"
          },
          "metadata": {
            "needs_background": "light"
          }
        }
      ],
      "source": [
        "plt.plot(z, probabilities)\n",
        "plt.show()"
      ]
    },
    {
      "cell_type": "code",
      "metadata": {
        "id": "e6TH-mkPItb6"
      },
      "source": [
        "Logistic Regression"
      ],
      "execution_count": null,
      "outputs": []
    },
    {
      "cell_type": "code",
      "execution_count": 109,
      "metadata": {
        "collapsed": true,
        "id": "qtgUN3LW-UIq"
      },
      "outputs": [],
      "source": [
        "def eval_model(X, y, iterations, alpha=1e-4):\n",
        "    np.random.seed(42)\n",
        "    W = np.random.randn(X.shape[0])\n",
        "    n = X.shape[1]\n",
        "    for i in range(1, iterations+1):\n",
        "        z = np.dot(W, X)\n",
        "        y_pred = sigmoid(z)\n",
        "        err = calc_logloss(y, y_pred)\n",
        "        W -= alpha * (1/n * np.dot((y_pred - y), X.T))\n",
        "        #if i % (iterations / 10) == 0:\n",
        "        #    print(i, W, err)\n",
        "    return W"
      ]
    },
    {
      "cell_type": "code",
      "execution_count": 111,
      "metadata": {
        "id": "oqX7loklBmYZ"
      },
      "outputs": [],
      "source": [
        "W = eval_model(X_st, y, iterations=5000, alpha=1e-4)"
      ]
    },
    {
      "cell_type": "markdown",
      "metadata": {
        "id": "MW4rVurIWNKE"
      },
      "source": [
        "## Практическое задание"
      ]
    },
    {
      "cell_type": "markdown",
      "metadata": {
        "id": "OrKTLjzpWNKF"
      },
      "source": [
        "1. Измените функцию calc_logloss так, чтобы нули по возможности не попадали в np.log.\n",
        "2. Подберите аргументы функции eval_model для логистической регрессии таким образом, чтобы log loss был минимальным.\n",
        "3. Создайте функцию calc_pred_proba, возвращающую предсказанную вероятность класса 1. На вход подаётся W, который уже посчитан функцией eval_model, и X, на выходе — массив y_pred_proba.\n",
        "4. Создайте функцию calc_pred, возвращающую предсказанный класс. На вход подаётся W, который уже посчитан функцией eval_model, и X, на выходе — массив y_pred.\n",
        "5. Посчитайте Accuracy, матрицу ошибок, точность и полноту, а также F1 score.\n",
        "6. Могла ли модель переобучиться? Почему?"
      ]
    },
    {
      "cell_type": "code",
      "source": [
        "from sklearn.metrics import log_loss as lg"
      ],
      "metadata": {
        "id": "L5WDIEItxUin"
      },
      "execution_count": 116,
      "outputs": []
    },
    {
      "cell_type": "code",
      "source": [
        "y_pred = sigmoid(np.dot(W.T,X))"
      ],
      "metadata": {
        "id": "gss0b-mwoGlq"
      },
      "execution_count": 121,
      "outputs": []
    },
    {
      "cell_type": "code",
      "execution_count": 72,
      "metadata": {
        "collapsed": true,
        "id": "jp0AQlnkRBWC"
      },
      "outputs": [],
      "source": [
        "def calc_logloss(y, y_pred, eps=1e-10):\n",
        "    err = - np.mean(y * np.log(y_pred+eps) + (1.0 - y) * np.log(1.0 - y_pred + eps))\n",
        "    err = np.sum(err)\n",
        "    return err"
      ]
    },
    {
      "cell_type": "code",
      "source": [
        "def alt_log_loss(y, y_pred, eps=1e-10):\n",
        "    return (-y.dot(np.log(y_pred+eps)) - ((1-y).dot(np.log(1-y_pred + eps)))) / len(y)"
      ],
      "metadata": {
        "id": "2QrYSL4ul008"
      },
      "execution_count": 73,
      "outputs": []
    },
    {
      "cell_type": "code",
      "source": [
        "def log_loss(w, X, y, eps=1e-10):\n",
        "    m = X.shape[1]\n",
        "\n",
        "    # используем функцию сигмоиды, написанную ранее\n",
        "    A = sigmoid(np.dot(w.T, X))\n",
        "    \n",
        "    loss = -1.0 / m * np.sum(y * np.log(A+eps) + (1 - y) * np.log(1 - A + eps))\n",
        "    loss = np.squeeze(loss)\n",
        "    grad = 1.0 / m * np.dot(X, (A - y).T)\n",
        "    \n",
        "    return loss, grad"
      ],
      "metadata": {
        "id": "2i_f4nV-niyN"
      },
      "execution_count": 117,
      "outputs": []
    },
    {
      "cell_type": "code",
      "source": [
        "calc_logloss(y, y_pred)"
      ],
      "metadata": {
        "colab": {
          "base_uri": "https://localhost:8080/"
        },
        "id": "8PDmrz3iFW7O",
        "outputId": "f60cc45a-7767-4162-9be0-a1038934b889"
      },
      "execution_count": 122,
      "outputs": [
        {
          "output_type": "execute_result",
          "data": {
            "text/plain": [
              "11.51292546492023"
            ]
          },
          "metadata": {},
          "execution_count": 122
        }
      ]
    },
    {
      "cell_type": "code",
      "source": [
        "alt_log_loss(y, y_pred)"
      ],
      "metadata": {
        "colab": {
          "base_uri": "https://localhost:8080/"
        },
        "id": "9YodEaNWmV0V",
        "outputId": "072b60c3-2711-4317-c44d-ba7d55126f7c"
      },
      "execution_count": 129,
      "outputs": [
        {
          "output_type": "execute_result",
          "data": {
            "text/plain": [
              "11.51292546492023"
            ]
          },
          "metadata": {},
          "execution_count": 129
        }
      ]
    },
    {
      "cell_type": "code",
      "source": [
        "log_loss(W, X, y)[0]"
      ],
      "metadata": {
        "colab": {
          "base_uri": "https://localhost:8080/"
        },
        "id": "TnQ1NJhFoZo2",
        "outputId": "150fd65f-dd38-49aa-dfd9-8593f928bc91"
      },
      "execution_count": 124,
      "outputs": [
        {
          "output_type": "execute_result",
          "data": {
            "text/plain": [
              "11.51292546492023"
            ]
          },
          "metadata": {},
          "execution_count": 124
        }
      ]
    },
    {
      "cell_type": "code",
      "source": [
        "lg(y, y_pred, eps=1e-10)"
      ],
      "metadata": {
        "colab": {
          "base_uri": "https://localhost:8080/"
        },
        "id": "JtHrKdrWzlhC",
        "outputId": "43cf63c7-d3fa-45d3-cd22-7dfbd0be968d"
      },
      "execution_count": 133,
      "outputs": [
        {
          "output_type": "execute_result",
          "data": {
            "text/plain": [
              "11.512925423650046"
            ]
          },
          "metadata": {},
          "execution_count": 133
        }
      ]
    },
    {
      "cell_type": "code",
      "source": [
        "lg(y, y_pred, eps=1e-10, normalize=False)"
      ],
      "metadata": {
        "colab": {
          "base_uri": "https://localhost:8080/"
        },
        "id": "k9ClyRPexiim",
        "outputId": "693f391a-977a-4fa7-92b2-3916335742ef"
      },
      "execution_count": 131,
      "outputs": [
        {
          "output_type": "execute_result",
          "data": {
            "text/plain": [
              "115.12925423650046"
            ]
          },
          "metadata": {},
          "execution_count": 131
        }
      ]
    },
    {
      "cell_type": "code",
      "source": [
        "alt_log_loss(y, y_pred) * len(y)"
      ],
      "metadata": {
        "colab": {
          "base_uri": "https://localhost:8080/"
        },
        "id": "0cOFKEnhyc6a",
        "outputId": "869b2c61-2165-4a5c-c771-da818628368b"
      },
      "execution_count": 132,
      "outputs": [
        {
          "output_type": "execute_result",
          "data": {
            "text/plain": [
              "115.1292546492023"
            ]
          },
          "metadata": {},
          "execution_count": 132
        }
      ]
    },
    {
      "cell_type": "code",
      "source": [
        "def logreg_eval_model(X, y, iterations, alpha=1e-4):\n",
        "    np.random.seed(2020)\n",
        "    W = np.random.randn(X.shape[0])\n",
        "    n = X.shape[1]\n",
        "    for i in range(1, iterations+1):\n",
        "        z = np.dot(W, X)\n",
        "        y_pred = sigmoid(z)\n",
        "        err = calc_logloss(y, y_pred)\n",
        "        W -= alpha*(1/n * np.dot((y_pred - y), X.T))\n",
        "        \n",
        "        #if i % (iterations/10) ==0:\n",
        "        #    print(f'итерация: {i}, logloss: {err}, веса: {W}')\n",
        "            \n",
        "    return W"
      ],
      "metadata": {
        "id": "R3N2cu8QLcPR"
      },
      "execution_count": 78,
      "outputs": []
    },
    {
      "cell_type": "code",
      "source": [
        "from sklearn.preprocessing import StandardScaler\n",
        "\n",
        "scaler = StandardScaler()\n",
        "X_st = scaler.fit_transform(X.T)"
      ],
      "metadata": {
        "id": "1Hd3v2nLL5Y-"
      },
      "execution_count": 50,
      "outputs": []
    },
    {
      "cell_type": "code",
      "source": [
        "from sklearn.model_selection import ParameterGrid\n",
        "params = {'alpha': np.logspace(-10, 0, 22), 'iterations': np.arange(100, 1200, 200)}\n",
        "\n",
        "pg = ParameterGrid(param_grid=params)\n",
        "\n",
        "min_logloss = np.inf\n",
        "best_params = {'alpha': None, 'iterations': None}\n",
        "\n",
        "for p in list(pg):\n",
        "    alpha, iters = p['alpha'], p['iterations']\n",
        "    W = logreg_eval_model(X_st.T, y, iterations=iters, alpha=alpha)\n",
        "    y_pred = sigmoid(np.dot(X_st, W))\n",
        "    log_loss = calc_logloss(y, y_pred)\n",
        "    if log_loss < min_logloss:\n",
        "        min_logloss = log_loss\n",
        "        best_params['alpha'] = alpha\n",
        "        best_params['iterations'] = iters"
      ],
      "metadata": {
        "id": "OLvFoTWfFwi1"
      },
      "execution_count": 102,
      "outputs": []
    },
    {
      "cell_type": "code",
      "source": [
        "W = eval_model(X_st.T, y, **best_params)\n",
        "\n",
        "y_pred = sigmoid(np.dot(X_st, W))\n",
        "calc_logloss(y, y_pred)"
      ],
      "metadata": {
        "colab": {
          "base_uri": "https://localhost:8080/"
        },
        "id": "HIgjImkrIEpM",
        "outputId": "d4a0455a-a5e5-49e0-e341-e7e41163d628"
      },
      "execution_count": 104,
      "outputs": [
        {
          "output_type": "execute_result",
          "data": {
            "text/plain": [
              "0.23254143594079552"
            ]
          },
          "metadata": {},
          "execution_count": 104
        }
      ]
    },
    {
      "cell_type": "code",
      "source": [
        "def calc_pred_proba(W, X):\n",
        "    return sigmoid(np.dot(X, W))"
      ],
      "metadata": {
        "id": "yjo9QZ_xMkSj"
      },
      "execution_count": 84,
      "outputs": []
    },
    {
      "cell_type": "code",
      "source": [
        "print(*calc_pred_proba(W, X_st), sep='\\n')"
      ],
      "metadata": {
        "colab": {
          "base_uri": "https://localhost:8080/"
        },
        "id": "khDx_HrAMyiI",
        "outputId": "75443724-2a4b-4ea4-8543-fed68fa5dc8c"
      },
      "execution_count": 85,
      "outputs": [
        {
          "output_type": "stream",
          "name": "stdout",
          "text": [
            "0.238502743475629\n",
            "0.07457380546692467\n",
            "0.9993026727195765\n",
            "3.885543033667446e-05\n",
            "0.6075715986401838\n",
            "0.24633415686760482\n",
            "0.9997096562227041\n",
            "0.003523864875083174\n",
            "0.30544196525640327\n",
            "0.996206286472391\n"
          ]
        }
      ]
    },
    {
      "cell_type": "code",
      "source": [
        "def calc_pred(W, X, thres=0.5):\n",
        "    y_pred = calc_pred_proba(W, X)\n",
        "    return np.where(y_pred >= thres, 1, 0)"
      ],
      "metadata": {
        "id": "WT93b7KVM4lN"
      },
      "execution_count": 86,
      "outputs": []
    },
    {
      "cell_type": "code",
      "source": [
        "calc_pred(W, X_st) == y"
      ],
      "metadata": {
        "colab": {
          "base_uri": "https://localhost:8080/"
        },
        "id": "BiOu3dYPNaaw",
        "outputId": "8a6b68b4-3674-4907-f1e6-5ad130971b2a"
      },
      "execution_count": 87,
      "outputs": [
        {
          "output_type": "execute_result",
          "data": {
            "text/plain": [
              "array([ True,  True,  True,  True,  True,  True,  True,  True, False,\n",
              "        True])"
            ]
          },
          "metadata": {},
          "execution_count": 87
        }
      ]
    },
    {
      "cell_type": "code",
      "source": [
        "from sklearn.metrics import f1_score, precision_score, recall_score, accuracy_score, confusion_matrix"
      ],
      "metadata": {
        "id": "aHstYYZ9NgjQ"
      },
      "execution_count": 88,
      "outputs": []
    },
    {
      "cell_type": "code",
      "source": [
        "res = calc_pred(W, X_st)\n",
        "print(f'Accuracy: {(res==y).mean():.4f}, sklearn: {accuracy_score(y, res):.4f}')"
      ],
      "metadata": {
        "colab": {
          "base_uri": "https://localhost:8080/"
        },
        "id": "2KrneyZnNyvc",
        "outputId": "241a24ae-eb84-4941-8382-281a4e0ac0fe"
      },
      "execution_count": 89,
      "outputs": [
        {
          "output_type": "stream",
          "name": "stdout",
          "text": [
            "Accuracy: 0.9000, sklearn: 0.9000\n"
          ]
        }
      ]
    },
    {
      "cell_type": "code",
      "source": [
        "res, '', y.astype(int)"
      ],
      "metadata": {
        "colab": {
          "base_uri": "https://localhost:8080/"
        },
        "id": "oRCAT1DTOXAK",
        "outputId": "29f7375d-8e8e-4d20-acca-410aa1ecb76d"
      },
      "execution_count": 91,
      "outputs": [
        {
          "output_type": "execute_result",
          "data": {
            "text/plain": [
              "(array([0, 0, 1, 0, 1, 0, 1, 0, 0, 1]),\n",
              " '',\n",
              " array([0, 0, 1, 0, 1, 0, 1, 0, 1, 1]))"
            ]
          },
          "metadata": {},
          "execution_count": 91
        }
      ]
    },
    {
      "cell_type": "code",
      "source": [
        "TP = ((res == 1) & (y == 1)).sum()\n",
        "FP = ((res == 1) & (y == 0)).sum()\n",
        "TN = ((res == 0) & (y == 0)).sum()\n",
        "FN = ((res == 0) & (y == 1)).sum()"
      ],
      "metadata": {
        "id": "eUDQ81faNyxt"
      },
      "execution_count": 92,
      "outputs": []
    },
    {
      "cell_type": "code",
      "source": [
        "print(f'Precision: {(TP / (TP+FP)):.4f}, sklearn: {precision_score(y, res):.4f}')"
      ],
      "metadata": {
        "colab": {
          "base_uri": "https://localhost:8080/"
        },
        "id": "fIZLT8FTNy0K",
        "outputId": "64028f38-780e-4143-8a7e-b58588de0536"
      },
      "execution_count": 93,
      "outputs": [
        {
          "output_type": "stream",
          "name": "stdout",
          "text": [
            "Precision: 1.0000, sklearn: 1.0000\n"
          ]
        }
      ]
    },
    {
      "cell_type": "code",
      "source": [
        "print(f'Recall: {(TP / (TP+FN)):.4f}, sklearn: {recall_score(y, res):.4f}')"
      ],
      "metadata": {
        "colab": {
          "base_uri": "https://localhost:8080/"
        },
        "id": "Ikg8CAD-Ny2T",
        "outputId": "57ce44f6-5d18-4ca8-b68b-a99b43c527b5"
      },
      "execution_count": 94,
      "outputs": [
        {
          "output_type": "stream",
          "name": "stdout",
          "text": [
            "Recall: 0.8000, sklearn: 0.8000\n"
          ]
        }
      ]
    },
    {
      "cell_type": "code",
      "source": [
        "prec = TP / (TP + FP)\n",
        "rec = TP / (TP + FN)\n",
        "print(f'F1: {(2*prec*rec/(prec+rec)):.4f}, sklearn: {f1_score(y, res):.4f}')"
      ],
      "metadata": {
        "colab": {
          "base_uri": "https://localhost:8080/"
        },
        "id": "uMeuRBl2PhKU",
        "outputId": "86eef459-5f18-4df8-d6b0-f1a678c21686"
      },
      "execution_count": 95,
      "outputs": [
        {
          "output_type": "stream",
          "name": "stdout",
          "text": [
            "F1: 0.8889, sklearn: 0.8889\n"
          ]
        }
      ]
    },
    {
      "cell_type": "code",
      "source": [
        "import pandas as pd\n",
        "conf = pd.DataFrame(data=np.array([[TN, FP], [FN, TP]]), columns=['0', '1'], index=['0', '1'])\n",
        "print(conf)"
      ],
      "metadata": {
        "colab": {
          "base_uri": "https://localhost:8080/"
        },
        "id": "46FDpOQ_PhMa",
        "outputId": "578b5557-ab87-462b-de6b-ed1f909ca92a"
      },
      "execution_count": 101,
      "outputs": [
        {
          "output_type": "stream",
          "name": "stdout",
          "text": [
            "   0  1\n",
            "0  5  0\n",
            "1  1  4\n"
          ]
        }
      ]
    },
    {
      "cell_type": "code",
      "source": [
        "confusion_matrix(y, res)"
      ],
      "metadata": {
        "colab": {
          "base_uri": "https://localhost:8080/"
        },
        "id": "tQv44TyNNy4S",
        "outputId": "9c294b50-bcf3-4457-e1c3-f5079f0bb087"
      },
      "execution_count": 92,
      "outputs": [
        {
          "output_type": "execute_result",
          "data": {
            "text/plain": [
              "array([[5, 0],\n",
              "       [1, 4]])"
            ]
          },
          "metadata": {},
          "execution_count": 92
        }
      ]
    },
    {
      "cell_type": "code",
      "source": [
        "from sklearn.metrics import ConfusionMatrixDisplay"
      ],
      "metadata": {
        "id": "3lsht0swq8zY"
      },
      "execution_count": 98,
      "outputs": []
    },
    {
      "cell_type": "code",
      "source": [
        "ConfusionMatrixDisplay(confusion_matrix(y, res)).plot()"
      ],
      "metadata": {
        "colab": {
          "base_uri": "https://localhost:8080/",
          "height": 300
        },
        "id": "WpTrpqz5rOBY",
        "outputId": "a5fdd2bd-218d-480e-edf7-143d9adbc75c"
      },
      "execution_count": 100,
      "outputs": [
        {
          "output_type": "execute_result",
          "data": {
            "text/plain": [
              "<sklearn.metrics._plot.confusion_matrix.ConfusionMatrixDisplay at 0x7fdc1fd13490>"
            ]
          },
          "metadata": {},
          "execution_count": 100
        },
        {
          "output_type": "display_data",
          "data": {
            "text/plain": [
              "<Figure size 432x288 with 2 Axes>"
            ],
            "image/png": "[encoded data removed]"
          },
          "metadata": {
            "needs_background": "light"
          }
        }
      ]
    },
    {
      "cell_type": "markdown",
      "source": [
        "Могла ли модель переобучиться? Почему?\n",
        "\n",
        "Учитывая очень маленькое (нерепрезентативное) количество образцов в обучающем наборе данных модель в подавляющем большинстве случаев будет переобучаться. При сильном переобучении на обучающем наборе может вовсе не оказаться ошибок в предсказании. При этом, на тестовой выборке результат предсказаний будет неадекватным."
      ],
      "metadata": {
        "id": "hAptOTepNmzF"
      }
    }
  ],
  "metadata": {
    "colab": {
      "collapsed_sections": [],
      "name": "Lesson_3_script.ipynb",
      "provenance": []
    },
    "kernelspec": {
      "display_name": "Python 3",
      "language": "python",
      "name": "python3"
    },
    "language_info": {
      "codemirror_mode": {
        "name": "ipython",
        "version": 3
      },
      "file_extension": ".py",
      "mimetype": "text/x-python",
      "name": "python",
      "nbconvert_exporter": "python",
      "pygments_lexer": "ipython3",
      "version": "3.7.6"
    }
  },
  "nbformat": 4,
  "nbformat_minor": 0
}