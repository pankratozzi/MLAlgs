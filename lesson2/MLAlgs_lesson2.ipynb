{
  "nbformat": 4,
  "nbformat_minor": 0,
  "metadata": {
    "colab": {
      "name": "MLAlgs_lesson2.ipynb",
      "provenance": [],
      "collapsed_sections": []
    },
    "kernelspec": {
      "name": "python3",
      "display_name": "Python 3"
    },
    "language_info": {
      "name": "python"
    }
  },
  "cells": [
    {
      "cell_type": "code",
      "execution_count": 173,
      "metadata": {
        "id": "eTxYjNcrqk7Z"
      },
      "outputs": [],
      "source": [
        "import numpy as np\n",
        "import matplotlib.pyplot as plt\n",
        "\n",
        "from sklearn.datasets import make_regression\n",
        "from sklearn.metrics import r2_score\n",
        "from sklearn.model_selection import train_test_split\n",
        "from sklearn.preprocessing import StandardScaler\n",
        "from sklearn.linear_model import LinearRegression, Ridge\n",
        "from sklearn.pipeline import make_pipeline\n",
        "\n",
        "np.random.seed(42)"
      ]
    },
    {
      "cell_type": "markdown",
      "source": [
        "1. Сгенерировать датасет при помощи `sklearn.datasets.make_regression` и обучить линейную модель при помощи градиентного и стохастического градиентного спуска. Нанести среднеквадратичную ошибку для обоих методов на один график, сделать выводы о разнице скорости сходимости каждого из методов.\n",
        "2. Модифицировать решение первого задания путем добавления $L_{2}$-регуляризации (в функцию, считающую MSE, нужно добавить норму вектора весов) и сравнить результаты."
      ],
      "metadata": {
        "id": "qOglupu6q9v9"
      }
    },
    {
      "cell_type": "markdown",
      "source": [
        "Our objection is to minimize: $||y - Xw||^2_2 + alpha \\cdot ||w||^2_2$ - classic Ridge Regression"
      ],
      "metadata": {
        "id": "V2go5m9jEQMO"
      }
    },
    {
      "cell_type": "code",
      "source": [
        "X, y = make_regression(n_samples=1300, n_features=5, n_informative=4, noise=15, random_state=42)\n",
        "X_train, X_test, y_train, y_test = train_test_split(X, y, test_size=300, shuffle=True, random_state=42)"
      ],
      "metadata": {
        "id": "03pi91grrDLa"
      },
      "execution_count": 241,
      "outputs": []
    },
    {
      "cell_type": "code",
      "source": [
        "X_st = (X - X.mean(axis=0)) / X.std(axis=0)  # cutom scaling of full dataset\n",
        "\n",
        "scaler = StandardScaler()\n",
        "X_train_scaled = scaler.fit_transform(X_train)\n",
        "X_test_scaled = scaler.transform(X_test)"
      ],
      "metadata": {
        "id": "NyQ0LXVkrJjV"
      },
      "execution_count": 242,
      "outputs": []
    },
    {
      "cell_type": "code",
      "source": [
        "def mserror(X, w, y, a=0):\n",
        "    y_pred = X.dot(w)\n",
        "    return np.mean((y - y_pred)**2) + a"
      ],
      "metadata": {
        "id": "fNWZPl-srpyj"
      },
      "execution_count": 6,
      "outputs": []
    },
    {
      "cell_type": "code",
      "source": [
        "def gradient_descent(X, Y, eta=0.01, lambda_=0, max_iter=1e4, penalty='l2'):\n",
        "    w = np.zeros((X.shape[1]))\n",
        "    w_list = [w.copy()]\n",
        "    errors = []\n",
        "    min_weight_dist = 1e-8\n",
        "    weight_dist = np.inf\n",
        "    iter_num = 0\n",
        "    while weight_dist > min_weight_dist and iter_num < max_iter:\n",
        "        dL = np.sign(w) if penalty == 'l1' else w\n",
        "        new_w = w - 2 * eta * (np.dot(X.T, (np.dot(X, w) - Y)) + lambda_*dL) / Y.shape[0]\n",
        "        weight_dist = np.linalg.norm(new_w - w, ord=2)\n",
        "\n",
        "        w_list.append(new_w.copy())\n",
        "        #a = np.linalg.norm(new_w, ord=2) if penalty == 'l2' else np.linalg.norm(new_w, ord=1)\n",
        "        a = np.sum(np.square(new_w)) if penalty == 'l2' else np.sum(np.abs(new_w))\n",
        "        errors.append(mserror(X, new_w, Y, lambda_*a))\n",
        "        iter_num += 1\n",
        "        w = new_w\n",
        "    w_list = np.array(w_list)\n",
        "\n",
        "    print(f'В случае использования градиентного спуска функционал ошибки составляет {round(errors[-1], 4)}')\n",
        "    \n",
        "    return w_list, errors"
      ],
      "metadata": {
        "id": "SmMS4BaesG2g"
      },
      "execution_count": 318,
      "outputs": []
    },
    {
      "cell_type": "code",
      "source": [
        "def stochastic_gradient_descent(X, Y, eta=0.01, max_iter=1e5, min_weight_dist=1e-8, lambda_=0, penalty='l2'):\n",
        "    w = np.random.randn(X.shape[1])\n",
        "    w_list = [w.copy()]\n",
        "    errors = []\n",
        "    weight_dist = np.inf\n",
        "    iter_num = 0\n",
        "    lamb = 0.01 \n",
        "    #Q = [mserror(X, w, Y)]  \n",
        "\n",
        "    while weight_dist > min_weight_dist and iter_num < max_iter:\n",
        "    \n",
        "        train_ind = np.random.randint(X.shape[0])\n",
        "\n",
        "        dQ = np.dot(X[train_ind:train_ind+1,:].T, (np.dot(X[train_ind:train_ind+1,:], w) - Y[train_ind]))\n",
        "        dL = np.sign(w) if penalty == 'l1' else w\n",
        "    \n",
        "        new_w = w - 2 * eta * (dQ + lambda_*dL) #/ Y.shape[0]  \n",
        "        weight_dist = np.linalg.norm(new_w - w, ord=2)\n",
        "    \n",
        "        w_list.append(new_w.copy())\n",
        "        #a = np.linalg.norm(new_w, ord=2) if penalty == 'l2' else np.linalg.norm(new_w, ord=1)\n",
        "        a = np.sum(np.square(new_w)) if penalty == 'l2' else np.sum(np.abs(new_w))\n",
        "\n",
        "        errors.append(mserror(X, new_w, Y, lambda_*a))\n",
        "        #Q.append(Q[-1]*(1-lamb)+lamb*(np.dot(X[train_ind,:], w) - Y[train_ind])**2)\n",
        "        iter_num += 1\n",
        "        w = new_w\n",
        "    \n",
        "    w_list = np.array(w_list)\n",
        " \n",
        "    print(f'В случае использования стохастического градиентного спуска функционал ошибки составляет {round(errors[-1], 4)}')\n",
        "    return w_list, errors"
      ],
      "metadata": {
        "id": "PuL6HX55sG6s"
      },
      "execution_count": 315,
      "outputs": []
    },
    {
      "cell_type": "code",
      "source": [
        "w_gd, error_gd = gradient_descent(X_train_scaled, y_train, max_iter=1e6, lambda_=0.)"
      ],
      "metadata": {
        "colab": {
          "base_uri": "https://localhost:8080/"
        },
        "id": "-67MSNP9sG-s",
        "outputId": "3bb9dc3d-9234-4e99-f87b-e6d7a7402f99"
      },
      "execution_count": 313,
      "outputs": [
        {
          "output_type": "stream",
          "name": "stdout",
          "text": [
            "В случае использования градиентного спуска функционал ошибки составляет 257.0164\n"
          ]
        }
      ]
    },
    {
      "cell_type": "code",
      "source": [
        "w_sgd, error_sgd = stochastic_gradient_descent(X_train_scaled, y_train, max_iter=1e5)"
      ],
      "metadata": {
        "colab": {
          "base_uri": "https://localhost:8080/"
        },
        "id": "_Xq_mZ26sHBP",
        "outputId": "3373da28-dcc9-4b53-dfb5-283e7875d302"
      },
      "execution_count": 316,
      "outputs": [
        {
          "output_type": "stream",
          "name": "stdout",
          "text": [
            "В случае использования стохастического градиентного спуска функционал ошибки составляет 265.5905\n"
          ]
        }
      ]
    },
    {
      "cell_type": "code",
      "source": [
        "# проверим долю объясненной моделью дисперсии\n",
        "pred_train = np.dot(X_train_scaled, w_gd[-1])\n",
        "pred_test = np.dot(X_test_scaled, w_gd[-1])\n",
        "print(f'R^2 train: {r2_score(y_train, pred_train):.4f}, R^2 test: {r2_score(y_test, pred_test):.4f}')"
      ],
      "metadata": {
        "colab": {
          "base_uri": "https://localhost:8080/"
        },
        "id": "9IWPcbv_3XlF",
        "outputId": "55e1476d-e47e-48c6-ac44-5ee50845f5cc"
      },
      "execution_count": 297,
      "outputs": [
        {
          "output_type": "stream",
          "name": "stdout",
          "text": [
            "R^2 train: 0.9736, R^2 test: 0.9716\n"
          ]
        }
      ]
    },
    {
      "cell_type": "code",
      "source": [
        "# результаты немного разнятся из-за случайного выбора индекса образца\n",
        "pred_train = np.dot(X_train_scaled, w_sgd[-1])\n",
        "pred_test = np.dot(X_test_scaled, w_sgd[-1])\n",
        "print(f'R^2 train: {r2_score(y_train, pred_train):.4f}, R^2 test: {r2_score(y_test, pred_test):.4f}')"
      ],
      "metadata": {
        "colab": {
          "base_uri": "https://localhost:8080/"
        },
        "id": "U8ILAI6Q6EUs",
        "outputId": "6e429266-c9c3-45b9-8188-3cbb58476b13"
      },
      "execution_count": 298,
      "outputs": [
        {
          "output_type": "stream",
          "name": "stdout",
          "text": [
            "R^2 train: 0.9730, R^2 test: 0.9714\n"
          ]
        }
      ]
    },
    {
      "cell_type": "code",
      "source": [
        "plt.figure(figsize=(8,4))\n",
        "plt.plot(error_gd[:150], label='GD', lw=3)\n",
        "plt.plot(error_sgd[:150], label='SGD', ls='--')\n",
        "plt.grid()\n",
        "plt.legend()\n",
        "plt.show()"
      ],
      "metadata": {
        "colab": {
          "base_uri": "https://localhost:8080/",
          "height": 267
        },
        "id": "5sLRQrB26ZtF",
        "outputId": "d403b001-3c3b-41f3-89c4-03b28c451e10"
      },
      "execution_count": 299,
      "outputs": [
        {
          "output_type": "display_data",
          "data": {
            "text/plain": [
              "<Figure size 576x288 with 1 Axes>"
            ],
            "image/png": "[encoded data removed]"
          },
          "metadata": {
            "needs_background": "light"
          }
        }
      ]
    },
    {
      "cell_type": "code",
      "source": [
        "w_gd, error_gd2 = gradient_descent(X_train_scaled, y_train, max_iter=1e5, lambda_=0.001)\n",
        "w_sgd, error_sgd2 = stochastic_gradient_descent(X_train_scaled, y_train, max_iter=1e5, lambda_=0.001)"
      ],
      "metadata": {
        "colab": {
          "base_uri": "https://localhost:8080/"
        },
        "id": "R_aamI6X7Rml",
        "outputId": "d6fe64a6-aecd-4e57-e524-2a3eae4a510a"
      },
      "execution_count": 323,
      "outputs": [
        {
          "output_type": "stream",
          "name": "stdout",
          "text": [
            "В случае использования градиентного спуска функционал ошибки составляет 266.6998\n",
            "В случае использования стохастического градиентного спуска функционал ошибки составляет 275.8231\n"
          ]
        }
      ]
    },
    {
      "cell_type": "code",
      "source": [
        "pred_train = np.dot(X_train_scaled, w_gd[-1])\n",
        "pred_test = np.dot(X_test_scaled, w_gd[-1])\n",
        "print(f'R^2 train: {r2_score(y_train, pred_train):.4f}, R^2 test: {r2_score(y_test, pred_test):.4f}')"
      ],
      "metadata": {
        "colab": {
          "base_uri": "https://localhost:8080/"
        },
        "id": "FB_aQsJj_I4Y",
        "outputId": "ce146dcd-9ad4-4bc6-e309-a67b476fdc7d"
      },
      "execution_count": 321,
      "outputs": [
        {
          "output_type": "stream",
          "name": "stdout",
          "text": [
            "R^2 train: 0.9736, R^2 test: 0.9716\n"
          ]
        }
      ]
    },
    {
      "cell_type": "code",
      "source": [
        "pred_train = np.dot(X_train_scaled, w_sgd[-1])\n",
        "pred_test = np.dot(X_test_scaled, w_sgd[-1])\n",
        "print(f'R^2 train: {r2_score(y_train, pred_train):.4f}, R^2 test: {r2_score(y_test, pred_test):.4f}')"
      ],
      "metadata": {
        "colab": {
          "base_uri": "https://localhost:8080/"
        },
        "id": "xuUXCYT9_Jgx",
        "outputId": "f3e8ecf9-42ac-4311-f151-437e1124114c"
      },
      "execution_count": 324,
      "outputs": [
        {
          "output_type": "stream",
          "name": "stdout",
          "text": [
            "R^2 train: 0.9726, R^2 test: 0.9710\n"
          ]
        }
      ]
    },
    {
      "cell_type": "code",
      "source": [
        "plt.figure(figsize=(8,4))\n",
        "plt.plot(error_gd[:150], label='GD')\n",
        "plt.plot(error_sgd[:150], label='SGD')\n",
        "plt.plot(error_gd2[:150], label='GD_L2')\n",
        "plt.plot(error_sgd2[:150], label='SGD_L2')\n",
        "plt.grid()\n",
        "plt.legend()\n",
        "plt.show()"
      ],
      "metadata": {
        "colab": {
          "base_uri": "https://localhost:8080/",
          "height": 267
        },
        "id": "dgf8tRIe96GA",
        "outputId": "f3639522-b0b3-4498-a314-225761957fee"
      },
      "execution_count": 303,
      "outputs": [
        {
          "output_type": "display_data",
          "data": {
            "text/plain": [
              "<Figure size 576x288 with 1 Axes>"
            ],
            "image/png": "[encoded data removed]"
          },
          "metadata": {
            "needs_background": "light"
          }
        }
      ]
    },
    {
      "cell_type": "markdown",
      "source": [
        "### С использованием минибатчей"
      ],
      "metadata": {
        "id": "EsDYwox80NWo"
      }
    },
    {
      "cell_type": "code",
      "source": [
        "def eval_sgd_model(X, y, iterations, qty_in_batch, alpha=1e-4, l2=0):\n",
        "    W = np.random.randn(X.shape[1])\n",
        "    n = X.shape[0]\n",
        "    n_batch = n // qty_in_batch\n",
        "    errors = []\n",
        "    if n % qty_in_batch != 0:\n",
        "        n_batch += 1\n",
        "\n",
        "    for i in range(1, iterations+1):\n",
        "        batch_errors = []\n",
        "        for b in range(n_batch):\n",
        "            start_ = qty_in_batch*b\n",
        "            end_ = qty_in_batch*(b+1)\n",
        "\n",
        "            X_tmp = X[start_ : end_, :]\n",
        "            y_tmp = y[start_ : end_]\n",
        "\n",
        "            y_pred_tmp = np.dot(X_tmp, W)\n",
        "            \n",
        "            W -= alpha * (2/X_tmp.shape[0] * np.dot(X_tmp.T, (y_pred_tmp - y_tmp)) + l2*W)\n",
        "\n",
        "            l2_term = l2 * np.sum(np.square(W)) # np.linalg.norm(W, ord=2) \n",
        "            err = mserror(X, W, y, l2_term)\n",
        "\n",
        "            batch_errors.append(err)\n",
        "\n",
        "        #errors.append(np.array(batch_errors).mean())\n",
        "\n",
        "    return W, batch_errors"
      ],
      "metadata": {
        "id": "1Ki_l5SCxMb2"
      },
      "execution_count": 304,
      "outputs": []
    },
    {
      "cell_type": "code",
      "source": [
        "W, errors_batch = eval_sgd_model(X_train_scaled, y_train, qty_in_batch=50, iterations=1000, alpha=0.001, l2=0.)\n",
        "W_reg, errors_batch_reg = eval_sgd_model(X_train_scaled, y_train, qty_in_batch=50, iterations=1000, alpha=0.001, l2=0.001)"
      ],
      "metadata": {
        "id": "bb8w6ciXt6nr"
      },
      "execution_count": 305,
      "outputs": []
    },
    {
      "cell_type": "code",
      "source": [
        "pred_train = np.dot(X_train_scaled, W)\n",
        "pred_test = np.dot(X_test_scaled, W)\n",
        "print(f'R^2 train: {r2_score(y_train, pred_train):.4f}, R^2 test: {r2_score(y_test, pred_test):.4f}')"
      ],
      "metadata": {
        "colab": {
          "base_uri": "https://localhost:8080/"
        },
        "id": "_15cEWURut0i",
        "outputId": "35ea4159-0396-4650-a440-5ba84a1e241b"
      },
      "execution_count": 306,
      "outputs": [
        {
          "output_type": "stream",
          "name": "stdout",
          "text": [
            "R^2 train: 0.9736, R^2 test: 0.9716\n"
          ]
        }
      ]
    },
    {
      "cell_type": "code",
      "source": [
        "pred_train = np.dot(X_train_scaled, W_reg)\n",
        "pred_test = np.dot(X_test_scaled, W_reg)\n",
        "print(f'R^2 train: {r2_score(y_train, pred_train):.4f}, R^2 test: {r2_score(y_test, pred_test):.4f}')"
      ],
      "metadata": {
        "colab": {
          "base_uri": "https://localhost:8080/"
        },
        "id": "D-kd0Cwk4yRY",
        "outputId": "c5235842-07f9-4c73-8b3f-bfdfbb63e232"
      },
      "execution_count": 307,
      "outputs": [
        {
          "output_type": "stream",
          "name": "stdout",
          "text": [
            "R^2 train: 0.9736, R^2 test: 0.9716\n"
          ]
        }
      ]
    },
    {
      "cell_type": "markdown",
      "source": [
        "Вообще ожидалось, что в модели с применением стохастического градиентного градиентного спуска схождение идет медленнее. В данном случае идентично модели, обновлящей все веса в каждой итерации. С введением регуляризации схождение еще больше замедляется, но при хорошем подборе значения параметра регуляризации мы можем ожидать снижение степени переобучения модели."
      ],
      "metadata": {
        "id": "Pi15T7E9AxBA"
      }
    },
    {
      "cell_type": "code",
      "source": [
        "pipe_raw = make_pipeline(StandardScaler(), LinearRegression())\n",
        "pipe_reg = make_pipeline(StandardScaler(), Ridge(alpha=15.)) # the bigger alpha the higher l2 impact on cost fn\n",
        "\n",
        "pipe_raw.fit(X_train, y_train)\n",
        "pipe_reg.fit(X_train, y_train)\n",
        "\n",
        "pred_train_raw = pipe_raw.predict(X_train)\n",
        "pred_test_raw = pipe_raw.predict(X_test)\n",
        "\n",
        "pred_train_reg = pipe_reg.predict(X_train)\n",
        "pred_test_reg = pipe_reg.predict(X_test)\n",
        "\n",
        "print(f'R^2 raw train: {r2_score(y_train, pred_train_raw):.4f}, R^2 raw test: {r2_score(y_test, pred_test_raw):.4f}')\n",
        "print(f'R^2 reg train: {r2_score(y_train, pred_train_reg):.4f}, R^2 reg test: {r2_score(y_test, pred_test_reg):.4f}')"
      ],
      "metadata": {
        "colab": {
          "base_uri": "https://localhost:8080/"
        },
        "id": "jXAJXFji7A7j",
        "outputId": "257eb8b5-1802-4834-a463-3db1cdccbb43"
      },
      "execution_count": 308,
      "outputs": [
        {
          "output_type": "stream",
          "name": "stdout",
          "text": [
            "R^2 raw train: 0.9747, R^2 raw test: 0.9730\n",
            "R^2 reg train: 0.9744, R^2 reg test: 0.9722\n"
          ]
        }
      ]
    },
    {
      "cell_type": "code",
      "source": [
        "# weights gentle cut-off\n",
        "pipe_raw[-1].coef_, pipe_reg[-1].coef_"
      ],
      "metadata": {
        "colab": {
          "base_uri": "https://localhost:8080/"
        },
        "id": "k6Vnth-uCmC7",
        "outputId": "2b2c283a-a3b1-422e-cf3e-b0ad17fcc657"
      },
      "execution_count": 309,
      "outputs": [
        {
          "output_type": "execute_result",
          "data": {
            "text/plain": [
              "(array([68.69913027, 33.4695397 , 57.87699055, 22.20137922,  0.9667528 ]),\n",
              " array([67.6415282 , 33.02836704, 56.99377932, 21.83380468,  0.90430783]))"
            ]
          },
          "metadata": {},
          "execution_count": 309
        }
      ]
    },
    {
      "cell_type": "markdown",
      "source": [
        "### Проверка"
      ],
      "metadata": {
        "id": "-Ckna_B8z73i"
      }
    },
    {
      "cell_type": "code",
      "source": [
        "import torch\n",
        "import torch.nn as nn\n",
        "\n",
        "device = 'cuda' if torch.cuda.is_available() else 'cpu'\n",
        "\n",
        "Xt = torch.as_tensor(X_train_scaled, dtype=torch.float32).to(device)\n",
        "yt = torch.as_tensor(y_train, dtype=torch.float32).view(-1, 1).to(device)\n",
        "\n",
        "model = nn.Sequential(nn.Linear(5, 1),).to(device)\n",
        "\n",
        "opt = torch.optim.SGD(model.parameters(), lr=0.01, weight_decay=0.01) \n",
        "loss_fn = nn.MSELoss()\n",
        "\n",
        "model.train()\n",
        "\n",
        "for i in range(1000):\n",
        "    opt.zero_grad()\n",
        "\n",
        "    out = model(Xt)\n",
        "    loss = loss_fn(out, yt)\n",
        "    loss.backward()\n",
        "    opt.step()\n",
        "\n",
        "    if (i+1) % 100 == 0:\n",
        "        print(f'MSE loss = {loss.item():.6f}')"
      ],
      "metadata": {
        "colab": {
          "base_uri": "https://localhost:8080/"
        },
        "id": "2sx1M_UkvC9b",
        "outputId": "ec63dcfa-5cb2-4b07-e857-82ba4a2b3ba4"
      },
      "execution_count": 289,
      "outputs": [
        {
          "output_type": "stream",
          "name": "stdout",
          "text": [
            "MSE loss = 445.963013\n",
            "MSE loss = 252.198807\n",
            "MSE loss = 246.898972\n",
            "MSE loss = 246.590500\n",
            "MSE loss = 246.555695\n",
            "MSE loss = 246.550812\n",
            "MSE loss = 246.550125\n",
            "MSE loss = 246.550140\n",
            "MSE loss = 246.550140\n",
            "MSE loss = 246.550140\n"
          ]
        }
      ]
    },
    {
      "cell_type": "code",
      "source": [
        "model.eval()\n",
        "Xt_test = torch.as_tensor(X_test_scaled, dtype=torch.float32)\n",
        "y_pred_train_logits = model(Xt)\n",
        "y_pred_test_logits = model(Xt_test)"
      ],
      "metadata": {
        "id": "R__V-8mLkzDc"
      },
      "execution_count": 290,
      "outputs": []
    },
    {
      "cell_type": "code",
      "source": [
        "torch_test = y_pred_test_logits.squeeze().detach().cpu().numpy()\n",
        "torch_train = y_pred_train_logits.squeeze().detach().cpu().numpy()\n",
        "\n",
        "print(f'R^2 train: {r2_score(y_train, torch_train):.4f}, R^2 test: {r2_score(y_test, torch_test):.4f}')"
      ],
      "metadata": {
        "colab": {
          "base_uri": "https://localhost:8080/"
        },
        "id": "ISshwczDzYX2",
        "outputId": "e9d66784-51c3-4ab7-f645-ef6266b18f46"
      },
      "execution_count": 291,
      "outputs": [
        {
          "output_type": "stream",
          "name": "stdout",
          "text": [
            "R^2 train: 0.9746, R^2 test: 0.9728\n"
          ]
        }
      ]
    }
  ]
}